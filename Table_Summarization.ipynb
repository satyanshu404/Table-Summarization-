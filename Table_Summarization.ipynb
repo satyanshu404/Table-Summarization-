{
  "nbformat": 4,
  "nbformat_minor": 0,
  "metadata": {
    "colab": {
      "provenance": []
    },
    "kernelspec": {
      "name": "python3",
      "display_name": "Python 3"
    },
    "language_info": {
      "name": "python"
    },
    "widgets": {
      "application/vnd.jupyter.widget-state+json": {
        "74e296b6ff63427ba2a41ec2ae03529c": {
          "model_module": "@jupyter-widgets/controls",
          "model_name": "HBoxModel",
          "model_module_version": "1.5.0",
          "state": {
            "_dom_classes": [],
            "_model_module": "@jupyter-widgets/controls",
            "_model_module_version": "1.5.0",
            "_model_name": "HBoxModel",
            "_view_count": null,
            "_view_module": "@jupyter-widgets/controls",
            "_view_module_version": "1.5.0",
            "_view_name": "HBoxView",
            "box_style": "",
            "children": [
              "IPY_MODEL_21b5a312f1f244eca5ff01af64cd09e2",
              "IPY_MODEL_464356da3fad4f3a9cbe2080fd7451bf",
              "IPY_MODEL_acb6c931bb204286be7fa9202cc42b10"
            ],
            "layout": "IPY_MODEL_8be47aab7f9640e7aeb21fec831cabb9"
          }
        },
        "21b5a312f1f244eca5ff01af64cd09e2": {
          "model_module": "@jupyter-widgets/controls",
          "model_name": "HTMLModel",
          "model_module_version": "1.5.0",
          "state": {
            "_dom_classes": [],
            "_model_module": "@jupyter-widgets/controls",
            "_model_module_version": "1.5.0",
            "_model_name": "HTMLModel",
            "_view_count": null,
            "_view_module": "@jupyter-widgets/controls",
            "_view_module_version": "1.5.0",
            "_view_name": "HTMLView",
            "description": "",
            "description_tooltip": null,
            "layout": "IPY_MODEL_dead7fc0128d45a29eda48ab076cf1fd",
            "placeholder": "​",
            "style": "IPY_MODEL_5fa21275500940a29457855d1e71f4e2",
            "value": "Downloading pytorch_model.bin: 100%"
          }
        },
        "464356da3fad4f3a9cbe2080fd7451bf": {
          "model_module": "@jupyter-widgets/controls",
          "model_name": "FloatProgressModel",
          "model_module_version": "1.5.0",
          "state": {
            "_dom_classes": [],
            "_model_module": "@jupyter-widgets/controls",
            "_model_module_version": "1.5.0",
            "_model_name": "FloatProgressModel",
            "_view_count": null,
            "_view_module": "@jupyter-widgets/controls",
            "_view_module_version": "1.5.0",
            "_view_name": "ProgressView",
            "bar_style": "success",
            "description": "",
            "description_tooltip": null,
            "layout": "IPY_MODEL_1cdbeec58f1640b38e897d6c532e9f71",
            "max": 1625270765,
            "min": 0,
            "orientation": "horizontal",
            "style": "IPY_MODEL_cb6af057ad55467285d1075151daf3b1",
            "value": 1625270765
          }
        },
        "acb6c931bb204286be7fa9202cc42b10": {
          "model_module": "@jupyter-widgets/controls",
          "model_name": "HTMLModel",
          "model_module_version": "1.5.0",
          "state": {
            "_dom_classes": [],
            "_model_module": "@jupyter-widgets/controls",
            "_model_module_version": "1.5.0",
            "_model_name": "HTMLModel",
            "_view_count": null,
            "_view_module": "@jupyter-widgets/controls",
            "_view_module_version": "1.5.0",
            "_view_name": "HTMLView",
            "description": "",
            "description_tooltip": null,
            "layout": "IPY_MODEL_de691a6f044c46e6861b039cdcac2797",
            "placeholder": "​",
            "style": "IPY_MODEL_c182cad9ae414d15bdad0d90a5dd2b8f",
            "value": " 1.63G/1.63G [00:26&lt;00:00, 76.6MB/s]"
          }
        },
        "8be47aab7f9640e7aeb21fec831cabb9": {
          "model_module": "@jupyter-widgets/base",
          "model_name": "LayoutModel",
          "model_module_version": "1.2.0",
          "state": {
            "_model_module": "@jupyter-widgets/base",
            "_model_module_version": "1.2.0",
            "_model_name": "LayoutModel",
            "_view_count": null,
            "_view_module": "@jupyter-widgets/base",
            "_view_module_version": "1.2.0",
            "_view_name": "LayoutView",
            "align_content": null,
            "align_items": null,
            "align_self": null,
            "border": null,
            "bottom": null,
            "display": null,
            "flex": null,
            "flex_flow": null,
            "grid_area": null,
            "grid_auto_columns": null,
            "grid_auto_flow": null,
            "grid_auto_rows": null,
            "grid_column": null,
            "grid_gap": null,
            "grid_row": null,
            "grid_template_areas": null,
            "grid_template_columns": null,
            "grid_template_rows": null,
            "height": null,
            "justify_content": null,
            "justify_items": null,
            "left": null,
            "margin": null,
            "max_height": null,
            "max_width": null,
            "min_height": null,
            "min_width": null,
            "object_fit": null,
            "object_position": null,
            "order": null,
            "overflow": null,
            "overflow_x": null,
            "overflow_y": null,
            "padding": null,
            "right": null,
            "top": null,
            "visibility": null,
            "width": null
          }
        },
        "dead7fc0128d45a29eda48ab076cf1fd": {
          "model_module": "@jupyter-widgets/base",
          "model_name": "LayoutModel",
          "model_module_version": "1.2.0",
          "state": {
            "_model_module": "@jupyter-widgets/base",
            "_model_module_version": "1.2.0",
            "_model_name": "LayoutModel",
            "_view_count": null,
            "_view_module": "@jupyter-widgets/base",
            "_view_module_version": "1.2.0",
            "_view_name": "LayoutView",
            "align_content": null,
            "align_items": null,
            "align_self": null,
            "border": null,
            "bottom": null,
            "display": null,
            "flex": null,
            "flex_flow": null,
            "grid_area": null,
            "grid_auto_columns": null,
            "grid_auto_flow": null,
            "grid_auto_rows": null,
            "grid_column": null,
            "grid_gap": null,
            "grid_row": null,
            "grid_template_areas": null,
            "grid_template_columns": null,
            "grid_template_rows": null,
            "height": null,
            "justify_content": null,
            "justify_items": null,
            "left": null,
            "margin": null,
            "max_height": null,
            "max_width": null,
            "min_height": null,
            "min_width": null,
            "object_fit": null,
            "object_position": null,
            "order": null,
            "overflow": null,
            "overflow_x": null,
            "overflow_y": null,
            "padding": null,
            "right": null,
            "top": null,
            "visibility": null,
            "width": null
          }
        },
        "5fa21275500940a29457855d1e71f4e2": {
          "model_module": "@jupyter-widgets/controls",
          "model_name": "DescriptionStyleModel",
          "model_module_version": "1.5.0",
          "state": {
            "_model_module": "@jupyter-widgets/controls",
            "_model_module_version": "1.5.0",
            "_model_name": "DescriptionStyleModel",
            "_view_count": null,
            "_view_module": "@jupyter-widgets/base",
            "_view_module_version": "1.2.0",
            "_view_name": "StyleView",
            "description_width": ""
          }
        },
        "1cdbeec58f1640b38e897d6c532e9f71": {
          "model_module": "@jupyter-widgets/base",
          "model_name": "LayoutModel",
          "model_module_version": "1.2.0",
          "state": {
            "_model_module": "@jupyter-widgets/base",
            "_model_module_version": "1.2.0",
            "_model_name": "LayoutModel",
            "_view_count": null,
            "_view_module": "@jupyter-widgets/base",
            "_view_module_version": "1.2.0",
            "_view_name": "LayoutView",
            "align_content": null,
            "align_items": null,
            "align_self": null,
            "border": null,
            "bottom": null,
            "display": null,
            "flex": null,
            "flex_flow": null,
            "grid_area": null,
            "grid_auto_columns": null,
            "grid_auto_flow": null,
            "grid_auto_rows": null,
            "grid_column": null,
            "grid_gap": null,
            "grid_row": null,
            "grid_template_areas": null,
            "grid_template_columns": null,
            "grid_template_rows": null,
            "height": null,
            "justify_content": null,
            "justify_items": null,
            "left": null,
            "margin": null,
            "max_height": null,
            "max_width": null,
            "min_height": null,
            "min_width": null,
            "object_fit": null,
            "object_position": null,
            "order": null,
            "overflow": null,
            "overflow_x": null,
            "overflow_y": null,
            "padding": null,
            "right": null,
            "top": null,
            "visibility": null,
            "width": null
          }
        },
        "cb6af057ad55467285d1075151daf3b1": {
          "model_module": "@jupyter-widgets/controls",
          "model_name": "ProgressStyleModel",
          "model_module_version": "1.5.0",
          "state": {
            "_model_module": "@jupyter-widgets/controls",
            "_model_module_version": "1.5.0",
            "_model_name": "ProgressStyleModel",
            "_view_count": null,
            "_view_module": "@jupyter-widgets/base",
            "_view_module_version": "1.2.0",
            "_view_name": "StyleView",
            "bar_color": null,
            "description_width": ""
          }
        },
        "de691a6f044c46e6861b039cdcac2797": {
          "model_module": "@jupyter-widgets/base",
          "model_name": "LayoutModel",
          "model_module_version": "1.2.0",
          "state": {
            "_model_module": "@jupyter-widgets/base",
            "_model_module_version": "1.2.0",
            "_model_name": "LayoutModel",
            "_view_count": null,
            "_view_module": "@jupyter-widgets/base",
            "_view_module_version": "1.2.0",
            "_view_name": "LayoutView",
            "align_content": null,
            "align_items": null,
            "align_self": null,
            "border": null,
            "bottom": null,
            "display": null,
            "flex": null,
            "flex_flow": null,
            "grid_area": null,
            "grid_auto_columns": null,
            "grid_auto_flow": null,
            "grid_auto_rows": null,
            "grid_column": null,
            "grid_gap": null,
            "grid_row": null,
            "grid_template_areas": null,
            "grid_template_columns": null,
            "grid_template_rows": null,
            "height": null,
            "justify_content": null,
            "justify_items": null,
            "left": null,
            "margin": null,
            "max_height": null,
            "max_width": null,
            "min_height": null,
            "min_width": null,
            "object_fit": null,
            "object_position": null,
            "order": null,
            "overflow": null,
            "overflow_x": null,
            "overflow_y": null,
            "padding": null,
            "right": null,
            "top": null,
            "visibility": null,
            "width": null
          }
        },
        "c182cad9ae414d15bdad0d90a5dd2b8f": {
          "model_module": "@jupyter-widgets/controls",
          "model_name": "DescriptionStyleModel",
          "model_module_version": "1.5.0",
          "state": {
            "_model_module": "@jupyter-widgets/controls",
            "_model_module_version": "1.5.0",
            "_model_name": "DescriptionStyleModel",
            "_view_count": null,
            "_view_module": "@jupyter-widgets/base",
            "_view_module_version": "1.2.0",
            "_view_name": "StyleView",
            "description_width": ""
          }
        },
        "f400bd63b16c432b872024f613dceff0": {
          "model_module": "@jupyter-widgets/controls",
          "model_name": "HBoxModel",
          "model_module_version": "1.5.0",
          "state": {
            "_dom_classes": [],
            "_model_module": "@jupyter-widgets/controls",
            "_model_module_version": "1.5.0",
            "_model_name": "HBoxModel",
            "_view_count": null,
            "_view_module": "@jupyter-widgets/controls",
            "_view_module_version": "1.5.0",
            "_view_name": "HBoxView",
            "box_style": "",
            "children": [
              "IPY_MODEL_22268b676bc643929eef73aa4e76d1e8",
              "IPY_MODEL_94d77b63a467465c98833403b5a6c470",
              "IPY_MODEL_941a4aebd1ea44aa94b2f46cf7d8d12b"
            ],
            "layout": "IPY_MODEL_539e0724451a4ad0a34dd908566e5949"
          }
        },
        "22268b676bc643929eef73aa4e76d1e8": {
          "model_module": "@jupyter-widgets/controls",
          "model_name": "HTMLModel",
          "model_module_version": "1.5.0",
          "state": {
            "_dom_classes": [],
            "_model_module": "@jupyter-widgets/controls",
            "_model_module_version": "1.5.0",
            "_model_name": "HTMLModel",
            "_view_count": null,
            "_view_module": "@jupyter-widgets/controls",
            "_view_module_version": "1.5.0",
            "_view_name": "HTMLView",
            "description": "",
            "description_tooltip": null,
            "layout": "IPY_MODEL_7dc0bb7f36684a41bacacd18de66beb3",
            "placeholder": "​",
            "style": "IPY_MODEL_7334033b22e24b0ca7eb0f75c0e983d8",
            "value": "Downloading (…)neration_config.json: 100%"
          }
        },
        "94d77b63a467465c98833403b5a6c470": {
          "model_module": "@jupyter-widgets/controls",
          "model_name": "FloatProgressModel",
          "model_module_version": "1.5.0",
          "state": {
            "_dom_classes": [],
            "_model_module": "@jupyter-widgets/controls",
            "_model_module_version": "1.5.0",
            "_model_name": "FloatProgressModel",
            "_view_count": null,
            "_view_module": "@jupyter-widgets/controls",
            "_view_module_version": "1.5.0",
            "_view_name": "ProgressView",
            "bar_style": "success",
            "description": "",
            "description_tooltip": null,
            "layout": "IPY_MODEL_b8fd54387654469db8643a5b2dbe7acb",
            "max": 363,
            "min": 0,
            "orientation": "horizontal",
            "style": "IPY_MODEL_f8f0feef3db74900aa65742b75987966",
            "value": 363
          }
        },
        "941a4aebd1ea44aa94b2f46cf7d8d12b": {
          "model_module": "@jupyter-widgets/controls",
          "model_name": "HTMLModel",
          "model_module_version": "1.5.0",
          "state": {
            "_dom_classes": [],
            "_model_module": "@jupyter-widgets/controls",
            "_model_module_version": "1.5.0",
            "_model_name": "HTMLModel",
            "_view_count": null,
            "_view_module": "@jupyter-widgets/controls",
            "_view_module_version": "1.5.0",
            "_view_name": "HTMLView",
            "description": "",
            "description_tooltip": null,
            "layout": "IPY_MODEL_bb71ee80b4ed4b11ade156ca7405c5ae",
            "placeholder": "​",
            "style": "IPY_MODEL_78223e4dc1884612ad3f0fff0ff321cd",
            "value": " 363/363 [00:00&lt;00:00, 15.8kB/s]"
          }
        },
        "539e0724451a4ad0a34dd908566e5949": {
          "model_module": "@jupyter-widgets/base",
          "model_name": "LayoutModel",
          "model_module_version": "1.2.0",
          "state": {
            "_model_module": "@jupyter-widgets/base",
            "_model_module_version": "1.2.0",
            "_model_name": "LayoutModel",
            "_view_count": null,
            "_view_module": "@jupyter-widgets/base",
            "_view_module_version": "1.2.0",
            "_view_name": "LayoutView",
            "align_content": null,
            "align_items": null,
            "align_self": null,
            "border": null,
            "bottom": null,
            "display": null,
            "flex": null,
            "flex_flow": null,
            "grid_area": null,
            "grid_auto_columns": null,
            "grid_auto_flow": null,
            "grid_auto_rows": null,
            "grid_column": null,
            "grid_gap": null,
            "grid_row": null,
            "grid_template_areas": null,
            "grid_template_columns": null,
            "grid_template_rows": null,
            "height": null,
            "justify_content": null,
            "justify_items": null,
            "left": null,
            "margin": null,
            "max_height": null,
            "max_width": null,
            "min_height": null,
            "min_width": null,
            "object_fit": null,
            "object_position": null,
            "order": null,
            "overflow": null,
            "overflow_x": null,
            "overflow_y": null,
            "padding": null,
            "right": null,
            "top": null,
            "visibility": null,
            "width": null
          }
        },
        "7dc0bb7f36684a41bacacd18de66beb3": {
          "model_module": "@jupyter-widgets/base",
          "model_name": "LayoutModel",
          "model_module_version": "1.2.0",
          "state": {
            "_model_module": "@jupyter-widgets/base",
            "_model_module_version": "1.2.0",
            "_model_name": "LayoutModel",
            "_view_count": null,
            "_view_module": "@jupyter-widgets/base",
            "_view_module_version": "1.2.0",
            "_view_name": "LayoutView",
            "align_content": null,
            "align_items": null,
            "align_self": null,
            "border": null,
            "bottom": null,
            "display": null,
            "flex": null,
            "flex_flow": null,
            "grid_area": null,
            "grid_auto_columns": null,
            "grid_auto_flow": null,
            "grid_auto_rows": null,
            "grid_column": null,
            "grid_gap": null,
            "grid_row": null,
            "grid_template_areas": null,
            "grid_template_columns": null,
            "grid_template_rows": null,
            "height": null,
            "justify_content": null,
            "justify_items": null,
            "left": null,
            "margin": null,
            "max_height": null,
            "max_width": null,
            "min_height": null,
            "min_width": null,
            "object_fit": null,
            "object_position": null,
            "order": null,
            "overflow": null,
            "overflow_x": null,
            "overflow_y": null,
            "padding": null,
            "right": null,
            "top": null,
            "visibility": null,
            "width": null
          }
        },
        "7334033b22e24b0ca7eb0f75c0e983d8": {
          "model_module": "@jupyter-widgets/controls",
          "model_name": "DescriptionStyleModel",
          "model_module_version": "1.5.0",
          "state": {
            "_model_module": "@jupyter-widgets/controls",
            "_model_module_version": "1.5.0",
            "_model_name": "DescriptionStyleModel",
            "_view_count": null,
            "_view_module": "@jupyter-widgets/base",
            "_view_module_version": "1.2.0",
            "_view_name": "StyleView",
            "description_width": ""
          }
        },
        "b8fd54387654469db8643a5b2dbe7acb": {
          "model_module": "@jupyter-widgets/base",
          "model_name": "LayoutModel",
          "model_module_version": "1.2.0",
          "state": {
            "_model_module": "@jupyter-widgets/base",
            "_model_module_version": "1.2.0",
            "_model_name": "LayoutModel",
            "_view_count": null,
            "_view_module": "@jupyter-widgets/base",
            "_view_module_version": "1.2.0",
            "_view_name": "LayoutView",
            "align_content": null,
            "align_items": null,
            "align_self": null,
            "border": null,
            "bottom": null,
            "display": null,
            "flex": null,
            "flex_flow": null,
            "grid_area": null,
            "grid_auto_columns": null,
            "grid_auto_flow": null,
            "grid_auto_rows": null,
            "grid_column": null,
            "grid_gap": null,
            "grid_row": null,
            "grid_template_areas": null,
            "grid_template_columns": null,
            "grid_template_rows": null,
            "height": null,
            "justify_content": null,
            "justify_items": null,
            "left": null,
            "margin": null,
            "max_height": null,
            "max_width": null,
            "min_height": null,
            "min_width": null,
            "object_fit": null,
            "object_position": null,
            "order": null,
            "overflow": null,
            "overflow_x": null,
            "overflow_y": null,
            "padding": null,
            "right": null,
            "top": null,
            "visibility": null,
            "width": null
          }
        },
        "f8f0feef3db74900aa65742b75987966": {
          "model_module": "@jupyter-widgets/controls",
          "model_name": "ProgressStyleModel",
          "model_module_version": "1.5.0",
          "state": {
            "_model_module": "@jupyter-widgets/controls",
            "_model_module_version": "1.5.0",
            "_model_name": "ProgressStyleModel",
            "_view_count": null,
            "_view_module": "@jupyter-widgets/base",
            "_view_module_version": "1.2.0",
            "_view_name": "StyleView",
            "bar_color": null,
            "description_width": ""
          }
        },
        "bb71ee80b4ed4b11ade156ca7405c5ae": {
          "model_module": "@jupyter-widgets/base",
          "model_name": "LayoutModel",
          "model_module_version": "1.2.0",
          "state": {
            "_model_module": "@jupyter-widgets/base",
            "_model_module_version": "1.2.0",
            "_model_name": "LayoutModel",
            "_view_count": null,
            "_view_module": "@jupyter-widgets/base",
            "_view_module_version": "1.2.0",
            "_view_name": "LayoutView",
            "align_content": null,
            "align_items": null,
            "align_self": null,
            "border": null,
            "bottom": null,
            "display": null,
            "flex": null,
            "flex_flow": null,
            "grid_area": null,
            "grid_auto_columns": null,
            "grid_auto_flow": null,
            "grid_auto_rows": null,
            "grid_column": null,
            "grid_gap": null,
            "grid_row": null,
            "grid_template_areas": null,
            "grid_template_columns": null,
            "grid_template_rows": null,
            "height": null,
            "justify_content": null,
            "justify_items": null,
            "left": null,
            "margin": null,
            "max_height": null,
            "max_width": null,
            "min_height": null,
            "min_width": null,
            "object_fit": null,
            "object_position": null,
            "order": null,
            "overflow": null,
            "overflow_x": null,
            "overflow_y": null,
            "padding": null,
            "right": null,
            "top": null,
            "visibility": null,
            "width": null
          }
        },
        "78223e4dc1884612ad3f0fff0ff321cd": {
          "model_module": "@jupyter-widgets/controls",
          "model_name": "DescriptionStyleModel",
          "model_module_version": "1.5.0",
          "state": {
            "_model_module": "@jupyter-widgets/controls",
            "_model_module_version": "1.5.0",
            "_model_name": "DescriptionStyleModel",
            "_view_count": null,
            "_view_module": "@jupyter-widgets/base",
            "_view_module_version": "1.2.0",
            "_view_name": "StyleView",
            "description_width": ""
          }
        },
        "4e95dcc210464436b506db94ff36e04a": {
          "model_module": "@jupyter-widgets/controls",
          "model_name": "HBoxModel",
          "model_module_version": "1.5.0",
          "state": {
            "_dom_classes": [],
            "_model_module": "@jupyter-widgets/controls",
            "_model_module_version": "1.5.0",
            "_model_name": "HBoxModel",
            "_view_count": null,
            "_view_module": "@jupyter-widgets/controls",
            "_view_module_version": "1.5.0",
            "_view_name": "HBoxView",
            "box_style": "",
            "children": [
              "IPY_MODEL_0e17d00f6f8a4bb7a69d7cf6ab28173f",
              "IPY_MODEL_734b974c819447ecb09e538dfa33884a",
              "IPY_MODEL_f4481d4b09d84cc7b1a6c6e9f611cfaa"
            ],
            "layout": "IPY_MODEL_115bd8aee9c74f5793ec5fe70be772f4"
          }
        },
        "0e17d00f6f8a4bb7a69d7cf6ab28173f": {
          "model_module": "@jupyter-widgets/controls",
          "model_name": "HTMLModel",
          "model_module_version": "1.5.0",
          "state": {
            "_dom_classes": [],
            "_model_module": "@jupyter-widgets/controls",
            "_model_module_version": "1.5.0",
            "_model_name": "HTMLModel",
            "_view_count": null,
            "_view_module": "@jupyter-widgets/controls",
            "_view_module_version": "1.5.0",
            "_view_name": "HTMLView",
            "description": "",
            "description_tooltip": null,
            "layout": "IPY_MODEL_b8b055cade804c76b246fcd2154dcbe2",
            "placeholder": "​",
            "style": "IPY_MODEL_110f9f1886eb4b9d94b7d5fbd9214a9a",
            "value": "Downloading (…)olve/main/vocab.json: 100%"
          }
        },
        "734b974c819447ecb09e538dfa33884a": {
          "model_module": "@jupyter-widgets/controls",
          "model_name": "FloatProgressModel",
          "model_module_version": "1.5.0",
          "state": {
            "_dom_classes": [],
            "_model_module": "@jupyter-widgets/controls",
            "_model_module_version": "1.5.0",
            "_model_name": "FloatProgressModel",
            "_view_count": null,
            "_view_module": "@jupyter-widgets/controls",
            "_view_module_version": "1.5.0",
            "_view_name": "ProgressView",
            "bar_style": "success",
            "description": "",
            "description_tooltip": null,
            "layout": "IPY_MODEL_c585b763ec4145089bc1bb541439b868",
            "max": 898823,
            "min": 0,
            "orientation": "horizontal",
            "style": "IPY_MODEL_b6350da3c4894e0fab0dc3a322bf013b",
            "value": 898823
          }
        },
        "f4481d4b09d84cc7b1a6c6e9f611cfaa": {
          "model_module": "@jupyter-widgets/controls",
          "model_name": "HTMLModel",
          "model_module_version": "1.5.0",
          "state": {
            "_dom_classes": [],
            "_model_module": "@jupyter-widgets/controls",
            "_model_module_version": "1.5.0",
            "_model_name": "HTMLModel",
            "_view_count": null,
            "_view_module": "@jupyter-widgets/controls",
            "_view_module_version": "1.5.0",
            "_view_name": "HTMLView",
            "description": "",
            "description_tooltip": null,
            "layout": "IPY_MODEL_58706da6a88543a2aa37aa1b8fd68a37",
            "placeholder": "​",
            "style": "IPY_MODEL_521e215a7ba24e2cb5197e3982931bdc",
            "value": " 899k/899k [00:00&lt;00:00, 3.41MB/s]"
          }
        },
        "115bd8aee9c74f5793ec5fe70be772f4": {
          "model_module": "@jupyter-widgets/base",
          "model_name": "LayoutModel",
          "model_module_version": "1.2.0",
          "state": {
            "_model_module": "@jupyter-widgets/base",
            "_model_module_version": "1.2.0",
            "_model_name": "LayoutModel",
            "_view_count": null,
            "_view_module": "@jupyter-widgets/base",
            "_view_module_version": "1.2.0",
            "_view_name": "LayoutView",
            "align_content": null,
            "align_items": null,
            "align_self": null,
            "border": null,
            "bottom": null,
            "display": null,
            "flex": null,
            "flex_flow": null,
            "grid_area": null,
            "grid_auto_columns": null,
            "grid_auto_flow": null,
            "grid_auto_rows": null,
            "grid_column": null,
            "grid_gap": null,
            "grid_row": null,
            "grid_template_areas": null,
            "grid_template_columns": null,
            "grid_template_rows": null,
            "height": null,
            "justify_content": null,
            "justify_items": null,
            "left": null,
            "margin": null,
            "max_height": null,
            "max_width": null,
            "min_height": null,
            "min_width": null,
            "object_fit": null,
            "object_position": null,
            "order": null,
            "overflow": null,
            "overflow_x": null,
            "overflow_y": null,
            "padding": null,
            "right": null,
            "top": null,
            "visibility": null,
            "width": null
          }
        },
        "b8b055cade804c76b246fcd2154dcbe2": {
          "model_module": "@jupyter-widgets/base",
          "model_name": "LayoutModel",
          "model_module_version": "1.2.0",
          "state": {
            "_model_module": "@jupyter-widgets/base",
            "_model_module_version": "1.2.0",
            "_model_name": "LayoutModel",
            "_view_count": null,
            "_view_module": "@jupyter-widgets/base",
            "_view_module_version": "1.2.0",
            "_view_name": "LayoutView",
            "align_content": null,
            "align_items": null,
            "align_self": null,
            "border": null,
            "bottom": null,
            "display": null,
            "flex": null,
            "flex_flow": null,
            "grid_area": null,
            "grid_auto_columns": null,
            "grid_auto_flow": null,
            "grid_auto_rows": null,
            "grid_column": null,
            "grid_gap": null,
            "grid_row": null,
            "grid_template_areas": null,
            "grid_template_columns": null,
            "grid_template_rows": null,
            "height": null,
            "justify_content": null,
            "justify_items": null,
            "left": null,
            "margin": null,
            "max_height": null,
            "max_width": null,
            "min_height": null,
            "min_width": null,
            "object_fit": null,
            "object_position": null,
            "order": null,
            "overflow": null,
            "overflow_x": null,
            "overflow_y": null,
            "padding": null,
            "right": null,
            "top": null,
            "visibility": null,
            "width": null
          }
        },
        "110f9f1886eb4b9d94b7d5fbd9214a9a": {
          "model_module": "@jupyter-widgets/controls",
          "model_name": "DescriptionStyleModel",
          "model_module_version": "1.5.0",
          "state": {
            "_model_module": "@jupyter-widgets/controls",
            "_model_module_version": "1.5.0",
            "_model_name": "DescriptionStyleModel",
            "_view_count": null,
            "_view_module": "@jupyter-widgets/base",
            "_view_module_version": "1.2.0",
            "_view_name": "StyleView",
            "description_width": ""
          }
        },
        "c585b763ec4145089bc1bb541439b868": {
          "model_module": "@jupyter-widgets/base",
          "model_name": "LayoutModel",
          "model_module_version": "1.2.0",
          "state": {
            "_model_module": "@jupyter-widgets/base",
            "_model_module_version": "1.2.0",
            "_model_name": "LayoutModel",
            "_view_count": null,
            "_view_module": "@jupyter-widgets/base",
            "_view_module_version": "1.2.0",
            "_view_name": "LayoutView",
            "align_content": null,
            "align_items": null,
            "align_self": null,
            "border": null,
            "bottom": null,
            "display": null,
            "flex": null,
            "flex_flow": null,
            "grid_area": null,
            "grid_auto_columns": null,
            "grid_auto_flow": null,
            "grid_auto_rows": null,
            "grid_column": null,
            "grid_gap": null,
            "grid_row": null,
            "grid_template_areas": null,
            "grid_template_columns": null,
            "grid_template_rows": null,
            "height": null,
            "justify_content": null,
            "justify_items": null,
            "left": null,
            "margin": null,
            "max_height": null,
            "max_width": null,
            "min_height": null,
            "min_width": null,
            "object_fit": null,
            "object_position": null,
            "order": null,
            "overflow": null,
            "overflow_x": null,
            "overflow_y": null,
            "padding": null,
            "right": null,
            "top": null,
            "visibility": null,
            "width": null
          }
        },
        "b6350da3c4894e0fab0dc3a322bf013b": {
          "model_module": "@jupyter-widgets/controls",
          "model_name": "ProgressStyleModel",
          "model_module_version": "1.5.0",
          "state": {
            "_model_module": "@jupyter-widgets/controls",
            "_model_module_version": "1.5.0",
            "_model_name": "ProgressStyleModel",
            "_view_count": null,
            "_view_module": "@jupyter-widgets/base",
            "_view_module_version": "1.2.0",
            "_view_name": "StyleView",
            "bar_color": null,
            "description_width": ""
          }
        },
        "58706da6a88543a2aa37aa1b8fd68a37": {
          "model_module": "@jupyter-widgets/base",
          "model_name": "LayoutModel",
          "model_module_version": "1.2.0",
          "state": {
            "_model_module": "@jupyter-widgets/base",
            "_model_module_version": "1.2.0",
            "_model_name": "LayoutModel",
            "_view_count": null,
            "_view_module": "@jupyter-widgets/base",
            "_view_module_version": "1.2.0",
            "_view_name": "LayoutView",
            "align_content": null,
            "align_items": null,
            "align_self": null,
            "border": null,
            "bottom": null,
            "display": null,
            "flex": null,
            "flex_flow": null,
            "grid_area": null,
            "grid_auto_columns": null,
            "grid_auto_flow": null,
            "grid_auto_rows": null,
            "grid_column": null,
            "grid_gap": null,
            "grid_row": null,
            "grid_template_areas": null,
            "grid_template_columns": null,
            "grid_template_rows": null,
            "height": null,
            "justify_content": null,
            "justify_items": null,
            "left": null,
            "margin": null,
            "max_height": null,
            "max_width": null,
            "min_height": null,
            "min_width": null,
            "object_fit": null,
            "object_position": null,
            "order": null,
            "overflow": null,
            "overflow_x": null,
            "overflow_y": null,
            "padding": null,
            "right": null,
            "top": null,
            "visibility": null,
            "width": null
          }
        },
        "521e215a7ba24e2cb5197e3982931bdc": {
          "model_module": "@jupyter-widgets/controls",
          "model_name": "DescriptionStyleModel",
          "model_module_version": "1.5.0",
          "state": {
            "_model_module": "@jupyter-widgets/controls",
            "_model_module_version": "1.5.0",
            "_model_name": "DescriptionStyleModel",
            "_view_count": null,
            "_view_module": "@jupyter-widgets/base",
            "_view_module_version": "1.2.0",
            "_view_name": "StyleView",
            "description_width": ""
          }
        },
        "8067acac26b4486bb9643e46745fb7fa": {
          "model_module": "@jupyter-widgets/controls",
          "model_name": "HBoxModel",
          "model_module_version": "1.5.0",
          "state": {
            "_dom_classes": [],
            "_model_module": "@jupyter-widgets/controls",
            "_model_module_version": "1.5.0",
            "_model_name": "HBoxModel",
            "_view_count": null,
            "_view_module": "@jupyter-widgets/controls",
            "_view_module_version": "1.5.0",
            "_view_name": "HBoxView",
            "box_style": "",
            "children": [
              "IPY_MODEL_aa1c6159ef3e4346ae42c47211e428ae",
              "IPY_MODEL_291acc0c180e4bd992c2a4b2126dbc76",
              "IPY_MODEL_71c630dce7874783bba3f19777a36ec9"
            ],
            "layout": "IPY_MODEL_50ba5e3955b8404da6e3a0c764849e8d"
          }
        },
        "aa1c6159ef3e4346ae42c47211e428ae": {
          "model_module": "@jupyter-widgets/controls",
          "model_name": "HTMLModel",
          "model_module_version": "1.5.0",
          "state": {
            "_dom_classes": [],
            "_model_module": "@jupyter-widgets/controls",
            "_model_module_version": "1.5.0",
            "_model_name": "HTMLModel",
            "_view_count": null,
            "_view_module": "@jupyter-widgets/controls",
            "_view_module_version": "1.5.0",
            "_view_name": "HTMLView",
            "description": "",
            "description_tooltip": null,
            "layout": "IPY_MODEL_4da192eac26e440da79d060a141983c7",
            "placeholder": "​",
            "style": "IPY_MODEL_308f0dab5f214603afb4dcaa0142b8f5",
            "value": "Downloading (…)olve/main/merges.txt: 100%"
          }
        },
        "291acc0c180e4bd992c2a4b2126dbc76": {
          "model_module": "@jupyter-widgets/controls",
          "model_name": "FloatProgressModel",
          "model_module_version": "1.5.0",
          "state": {
            "_dom_classes": [],
            "_model_module": "@jupyter-widgets/controls",
            "_model_module_version": "1.5.0",
            "_model_name": "FloatProgressModel",
            "_view_count": null,
            "_view_module": "@jupyter-widgets/controls",
            "_view_module_version": "1.5.0",
            "_view_name": "ProgressView",
            "bar_style": "success",
            "description": "",
            "description_tooltip": null,
            "layout": "IPY_MODEL_e1757446e81f489b9a1e8cd2c302278c",
            "max": 456318,
            "min": 0,
            "orientation": "horizontal",
            "style": "IPY_MODEL_6a09f5f38dbb4f989cabc1ef4f2ed7e8",
            "value": 456318
          }
        },
        "71c630dce7874783bba3f19777a36ec9": {
          "model_module": "@jupyter-widgets/controls",
          "model_name": "HTMLModel",
          "model_module_version": "1.5.0",
          "state": {
            "_dom_classes": [],
            "_model_module": "@jupyter-widgets/controls",
            "_model_module_version": "1.5.0",
            "_model_name": "HTMLModel",
            "_view_count": null,
            "_view_module": "@jupyter-widgets/controls",
            "_view_module_version": "1.5.0",
            "_view_name": "HTMLView",
            "description": "",
            "description_tooltip": null,
            "layout": "IPY_MODEL_4ee74630f1f34491b87c5c8823c17bea",
            "placeholder": "​",
            "style": "IPY_MODEL_874c6941528e41988d02d44bf3d8c53b",
            "value": " 456k/456k [00:00&lt;00:00, 2.32MB/s]"
          }
        },
        "50ba5e3955b8404da6e3a0c764849e8d": {
          "model_module": "@jupyter-widgets/base",
          "model_name": "LayoutModel",
          "model_module_version": "1.2.0",
          "state": {
            "_model_module": "@jupyter-widgets/base",
            "_model_module_version": "1.2.0",
            "_model_name": "LayoutModel",
            "_view_count": null,
            "_view_module": "@jupyter-widgets/base",
            "_view_module_version": "1.2.0",
            "_view_name": "LayoutView",
            "align_content": null,
            "align_items": null,
            "align_self": null,
            "border": null,
            "bottom": null,
            "display": null,
            "flex": null,
            "flex_flow": null,
            "grid_area": null,
            "grid_auto_columns": null,
            "grid_auto_flow": null,
            "grid_auto_rows": null,
            "grid_column": null,
            "grid_gap": null,
            "grid_row": null,
            "grid_template_areas": null,
            "grid_template_columns": null,
            "grid_template_rows": null,
            "height": null,
            "justify_content": null,
            "justify_items": null,
            "left": null,
            "margin": null,
            "max_height": null,
            "max_width": null,
            "min_height": null,
            "min_width": null,
            "object_fit": null,
            "object_position": null,
            "order": null,
            "overflow": null,
            "overflow_x": null,
            "overflow_y": null,
            "padding": null,
            "right": null,
            "top": null,
            "visibility": null,
            "width": null
          }
        },
        "4da192eac26e440da79d060a141983c7": {
          "model_module": "@jupyter-widgets/base",
          "model_name": "LayoutModel",
          "model_module_version": "1.2.0",
          "state": {
            "_model_module": "@jupyter-widgets/base",
            "_model_module_version": "1.2.0",
            "_model_name": "LayoutModel",
            "_view_count": null,
            "_view_module": "@jupyter-widgets/base",
            "_view_module_version": "1.2.0",
            "_view_name": "LayoutView",
            "align_content": null,
            "align_items": null,
            "align_self": null,
            "border": null,
            "bottom": null,
            "display": null,
            "flex": null,
            "flex_flow": null,
            "grid_area": null,
            "grid_auto_columns": null,
            "grid_auto_flow": null,
            "grid_auto_rows": null,
            "grid_column": null,
            "grid_gap": null,
            "grid_row": null,
            "grid_template_areas": null,
            "grid_template_columns": null,
            "grid_template_rows": null,
            "height": null,
            "justify_content": null,
            "justify_items": null,
            "left": null,
            "margin": null,
            "max_height": null,
            "max_width": null,
            "min_height": null,
            "min_width": null,
            "object_fit": null,
            "object_position": null,
            "order": null,
            "overflow": null,
            "overflow_x": null,
            "overflow_y": null,
            "padding": null,
            "right": null,
            "top": null,
            "visibility": null,
            "width": null
          }
        },
        "308f0dab5f214603afb4dcaa0142b8f5": {
          "model_module": "@jupyter-widgets/controls",
          "model_name": "DescriptionStyleModel",
          "model_module_version": "1.5.0",
          "state": {
            "_model_module": "@jupyter-widgets/controls",
            "_model_module_version": "1.5.0",
            "_model_name": "DescriptionStyleModel",
            "_view_count": null,
            "_view_module": "@jupyter-widgets/base",
            "_view_module_version": "1.2.0",
            "_view_name": "StyleView",
            "description_width": ""
          }
        },
        "e1757446e81f489b9a1e8cd2c302278c": {
          "model_module": "@jupyter-widgets/base",
          "model_name": "LayoutModel",
          "model_module_version": "1.2.0",
          "state": {
            "_model_module": "@jupyter-widgets/base",
            "_model_module_version": "1.2.0",
            "_model_name": "LayoutModel",
            "_view_count": null,
            "_view_module": "@jupyter-widgets/base",
            "_view_module_version": "1.2.0",
            "_view_name": "LayoutView",
            "align_content": null,
            "align_items": null,
            "align_self": null,
            "border": null,
            "bottom": null,
            "display": null,
            "flex": null,
            "flex_flow": null,
            "grid_area": null,
            "grid_auto_columns": null,
            "grid_auto_flow": null,
            "grid_auto_rows": null,
            "grid_column": null,
            "grid_gap": null,
            "grid_row": null,
            "grid_template_areas": null,
            "grid_template_columns": null,
            "grid_template_rows": null,
            "height": null,
            "justify_content": null,
            "justify_items": null,
            "left": null,
            "margin": null,
            "max_height": null,
            "max_width": null,
            "min_height": null,
            "min_width": null,
            "object_fit": null,
            "object_position": null,
            "order": null,
            "overflow": null,
            "overflow_x": null,
            "overflow_y": null,
            "padding": null,
            "right": null,
            "top": null,
            "visibility": null,
            "width": null
          }
        },
        "6a09f5f38dbb4f989cabc1ef4f2ed7e8": {
          "model_module": "@jupyter-widgets/controls",
          "model_name": "ProgressStyleModel",
          "model_module_version": "1.5.0",
          "state": {
            "_model_module": "@jupyter-widgets/controls",
            "_model_module_version": "1.5.0",
            "_model_name": "ProgressStyleModel",
            "_view_count": null,
            "_view_module": "@jupyter-widgets/base",
            "_view_module_version": "1.2.0",
            "_view_name": "StyleView",
            "bar_color": null,
            "description_width": ""
          }
        },
        "4ee74630f1f34491b87c5c8823c17bea": {
          "model_module": "@jupyter-widgets/base",
          "model_name": "LayoutModel",
          "model_module_version": "1.2.0",
          "state": {
            "_model_module": "@jupyter-widgets/base",
            "_model_module_version": "1.2.0",
            "_model_name": "LayoutModel",
            "_view_count": null,
            "_view_module": "@jupyter-widgets/base",
            "_view_module_version": "1.2.0",
            "_view_name": "LayoutView",
            "align_content": null,
            "align_items": null,
            "align_self": null,
            "border": null,
            "bottom": null,
            "display": null,
            "flex": null,
            "flex_flow": null,
            "grid_area": null,
            "grid_auto_columns": null,
            "grid_auto_flow": null,
            "grid_auto_rows": null,
            "grid_column": null,
            "grid_gap": null,
            "grid_row": null,
            "grid_template_areas": null,
            "grid_template_columns": null,
            "grid_template_rows": null,
            "height": null,
            "justify_content": null,
            "justify_items": null,
            "left": null,
            "margin": null,
            "max_height": null,
            "max_width": null,
            "min_height": null,
            "min_width": null,
            "object_fit": null,
            "object_position": null,
            "order": null,
            "overflow": null,
            "overflow_x": null,
            "overflow_y": null,
            "padding": null,
            "right": null,
            "top": null,
            "visibility": null,
            "width": null
          }
        },
        "874c6941528e41988d02d44bf3d8c53b": {
          "model_module": "@jupyter-widgets/controls",
          "model_name": "DescriptionStyleModel",
          "model_module_version": "1.5.0",
          "state": {
            "_model_module": "@jupyter-widgets/controls",
            "_model_module_version": "1.5.0",
            "_model_name": "DescriptionStyleModel",
            "_view_count": null,
            "_view_module": "@jupyter-widgets/base",
            "_view_module_version": "1.2.0",
            "_view_name": "StyleView",
            "description_width": ""
          }
        },
        "8f0f2dee64784cbea903b95655a4fd92": {
          "model_module": "@jupyter-widgets/controls",
          "model_name": "HBoxModel",
          "model_module_version": "1.5.0",
          "state": {
            "_dom_classes": [],
            "_model_module": "@jupyter-widgets/controls",
            "_model_module_version": "1.5.0",
            "_model_name": "HBoxModel",
            "_view_count": null,
            "_view_module": "@jupyter-widgets/controls",
            "_view_module_version": "1.5.0",
            "_view_name": "HBoxView",
            "box_style": "",
            "children": [
              "IPY_MODEL_c4939702496540f28c2557a0e4654623",
              "IPY_MODEL_aef23f12d3234694ae78c809f77243e6",
              "IPY_MODEL_cafe5b0daafc4f4c8864bc298e1a1897"
            ],
            "layout": "IPY_MODEL_c8d3f6b7d4b44c6a9573514794b01f40"
          }
        },
        "c4939702496540f28c2557a0e4654623": {
          "model_module": "@jupyter-widgets/controls",
          "model_name": "HTMLModel",
          "model_module_version": "1.5.0",
          "state": {
            "_dom_classes": [],
            "_model_module": "@jupyter-widgets/controls",
            "_model_module_version": "1.5.0",
            "_model_name": "HTMLModel",
            "_view_count": null,
            "_view_module": "@jupyter-widgets/controls",
            "_view_module_version": "1.5.0",
            "_view_name": "HTMLView",
            "description": "",
            "description_tooltip": null,
            "layout": "IPY_MODEL_1220f2134e8146ca815d29d6953b2686",
            "placeholder": "​",
            "style": "IPY_MODEL_7fa32201c12846ca904a30f21efbe0f7",
            "value": "Downloading (…)/main/tokenizer.json: 100%"
          }
        },
        "aef23f12d3234694ae78c809f77243e6": {
          "model_module": "@jupyter-widgets/controls",
          "model_name": "FloatProgressModel",
          "model_module_version": "1.5.0",
          "state": {
            "_dom_classes": [],
            "_model_module": "@jupyter-widgets/controls",
            "_model_module_version": "1.5.0",
            "_model_name": "FloatProgressModel",
            "_view_count": null,
            "_view_module": "@jupyter-widgets/controls",
            "_view_module_version": "1.5.0",
            "_view_name": "ProgressView",
            "bar_style": "success",
            "description": "",
            "description_tooltip": null,
            "layout": "IPY_MODEL_64018943f36e4e28987c8f27e9b86dba",
            "max": 1355863,
            "min": 0,
            "orientation": "horizontal",
            "style": "IPY_MODEL_e4d7d114c2074a9eab0969ebc28c66fb",
            "value": 1355863
          }
        },
        "cafe5b0daafc4f4c8864bc298e1a1897": {
          "model_module": "@jupyter-widgets/controls",
          "model_name": "HTMLModel",
          "model_module_version": "1.5.0",
          "state": {
            "_dom_classes": [],
            "_model_module": "@jupyter-widgets/controls",
            "_model_module_version": "1.5.0",
            "_model_name": "HTMLModel",
            "_view_count": null,
            "_view_module": "@jupyter-widgets/controls",
            "_view_module_version": "1.5.0",
            "_view_name": "HTMLView",
            "description": "",
            "description_tooltip": null,
            "layout": "IPY_MODEL_d0285022a69f4895b166d0eead6e5b8a",
            "placeholder": "​",
            "style": "IPY_MODEL_fd0d496cfe2f41fe9628f02100d3af1a",
            "value": " 1.36M/1.36M [00:00&lt;00:00, 4.12MB/s]"
          }
        },
        "c8d3f6b7d4b44c6a9573514794b01f40": {
          "model_module": "@jupyter-widgets/base",
          "model_name": "LayoutModel",
          "model_module_version": "1.2.0",
          "state": {
            "_model_module": "@jupyter-widgets/base",
            "_model_module_version": "1.2.0",
            "_model_name": "LayoutModel",
            "_view_count": null,
            "_view_module": "@jupyter-widgets/base",
            "_view_module_version": "1.2.0",
            "_view_name": "LayoutView",
            "align_content": null,
            "align_items": null,
            "align_self": null,
            "border": null,
            "bottom": null,
            "display": null,
            "flex": null,
            "flex_flow": null,
            "grid_area": null,
            "grid_auto_columns": null,
            "grid_auto_flow": null,
            "grid_auto_rows": null,
            "grid_column": null,
            "grid_gap": null,
            "grid_row": null,
            "grid_template_areas": null,
            "grid_template_columns": null,
            "grid_template_rows": null,
            "height": null,
            "justify_content": null,
            "justify_items": null,
            "left": null,
            "margin": null,
            "max_height": null,
            "max_width": null,
            "min_height": null,
            "min_width": null,
            "object_fit": null,
            "object_position": null,
            "order": null,
            "overflow": null,
            "overflow_x": null,
            "overflow_y": null,
            "padding": null,
            "right": null,
            "top": null,
            "visibility": null,
            "width": null
          }
        },
        "1220f2134e8146ca815d29d6953b2686": {
          "model_module": "@jupyter-widgets/base",
          "model_name": "LayoutModel",
          "model_module_version": "1.2.0",
          "state": {
            "_model_module": "@jupyter-widgets/base",
            "_model_module_version": "1.2.0",
            "_model_name": "LayoutModel",
            "_view_count": null,
            "_view_module": "@jupyter-widgets/base",
            "_view_module_version": "1.2.0",
            "_view_name": "LayoutView",
            "align_content": null,
            "align_items": null,
            "align_self": null,
            "border": null,
            "bottom": null,
            "display": null,
            "flex": null,
            "flex_flow": null,
            "grid_area": null,
            "grid_auto_columns": null,
            "grid_auto_flow": null,
            "grid_auto_rows": null,
            "grid_column": null,
            "grid_gap": null,
            "grid_row": null,
            "grid_template_areas": null,
            "grid_template_columns": null,
            "grid_template_rows": null,
            "height": null,
            "justify_content": null,
            "justify_items": null,
            "left": null,
            "margin": null,
            "max_height": null,
            "max_width": null,
            "min_height": null,
            "min_width": null,
            "object_fit": null,
            "object_position": null,
            "order": null,
            "overflow": null,
            "overflow_x": null,
            "overflow_y": null,
            "padding": null,
            "right": null,
            "top": null,
            "visibility": null,
            "width": null
          }
        },
        "7fa32201c12846ca904a30f21efbe0f7": {
          "model_module": "@jupyter-widgets/controls",
          "model_name": "DescriptionStyleModel",
          "model_module_version": "1.5.0",
          "state": {
            "_model_module": "@jupyter-widgets/controls",
            "_model_module_version": "1.5.0",
            "_model_name": "DescriptionStyleModel",
            "_view_count": null,
            "_view_module": "@jupyter-widgets/base",
            "_view_module_version": "1.2.0",
            "_view_name": "StyleView",
            "description_width": ""
          }
        },
        "64018943f36e4e28987c8f27e9b86dba": {
          "model_module": "@jupyter-widgets/base",
          "model_name": "LayoutModel",
          "model_module_version": "1.2.0",
          "state": {
            "_model_module": "@jupyter-widgets/base",
            "_model_module_version": "1.2.0",
            "_model_name": "LayoutModel",
            "_view_count": null,
            "_view_module": "@jupyter-widgets/base",
            "_view_module_version": "1.2.0",
            "_view_name": "LayoutView",
            "align_content": null,
            "align_items": null,
            "align_self": null,
            "border": null,
            "bottom": null,
            "display": null,
            "flex": null,
            "flex_flow": null,
            "grid_area": null,
            "grid_auto_columns": null,
            "grid_auto_flow": null,
            "grid_auto_rows": null,
            "grid_column": null,
            "grid_gap": null,
            "grid_row": null,
            "grid_template_areas": null,
            "grid_template_columns": null,
            "grid_template_rows": null,
            "height": null,
            "justify_content": null,
            "justify_items": null,
            "left": null,
            "margin": null,
            "max_height": null,
            "max_width": null,
            "min_height": null,
            "min_width": null,
            "object_fit": null,
            "object_position": null,
            "order": null,
            "overflow": null,
            "overflow_x": null,
            "overflow_y": null,
            "padding": null,
            "right": null,
            "top": null,
            "visibility": null,
            "width": null
          }
        },
        "e4d7d114c2074a9eab0969ebc28c66fb": {
          "model_module": "@jupyter-widgets/controls",
          "model_name": "ProgressStyleModel",
          "model_module_version": "1.5.0",
          "state": {
            "_model_module": "@jupyter-widgets/controls",
            "_model_module_version": "1.5.0",
            "_model_name": "ProgressStyleModel",
            "_view_count": null,
            "_view_module": "@jupyter-widgets/base",
            "_view_module_version": "1.2.0",
            "_view_name": "StyleView",
            "bar_color": null,
            "description_width": ""
          }
        },
        "d0285022a69f4895b166d0eead6e5b8a": {
          "model_module": "@jupyter-widgets/base",
          "model_name": "LayoutModel",
          "model_module_version": "1.2.0",
          "state": {
            "_model_module": "@jupyter-widgets/base",
            "_model_module_version": "1.2.0",
            "_model_name": "LayoutModel",
            "_view_count": null,
            "_view_module": "@jupyter-widgets/base",
            "_view_module_version": "1.2.0",
            "_view_name": "LayoutView",
            "align_content": null,
            "align_items": null,
            "align_self": null,
            "border": null,
            "bottom": null,
            "display": null,
            "flex": null,
            "flex_flow": null,
            "grid_area": null,
            "grid_auto_columns": null,
            "grid_auto_flow": null,
            "grid_auto_rows": null,
            "grid_column": null,
            "grid_gap": null,
            "grid_row": null,
            "grid_template_areas": null,
            "grid_template_columns": null,
            "grid_template_rows": null,
            "height": null,
            "justify_content": null,
            "justify_items": null,
            "left": null,
            "margin": null,
            "max_height": null,
            "max_width": null,
            "min_height": null,
            "min_width": null,
            "object_fit": null,
            "object_position": null,
            "order": null,
            "overflow": null,
            "overflow_x": null,
            "overflow_y": null,
            "padding": null,
            "right": null,
            "top": null,
            "visibility": null,
            "width": null
          }
        },
        "fd0d496cfe2f41fe9628f02100d3af1a": {
          "model_module": "@jupyter-widgets/controls",
          "model_name": "DescriptionStyleModel",
          "model_module_version": "1.5.0",
          "state": {
            "_model_module": "@jupyter-widgets/controls",
            "_model_module_version": "1.5.0",
            "_model_name": "DescriptionStyleModel",
            "_view_count": null,
            "_view_module": "@jupyter-widgets/base",
            "_view_module_version": "1.2.0",
            "_view_name": "StyleView",
            "description_width": ""
          }
        }
      }
    }
  },
  "cells": [
    {
      "cell_type": "markdown",
      "source": [
        "# **Table Summarization**\n",
        "\n",
        "The test question is as follows: \n",
        "\n",
        "Using any of the available language model via any open-source platform, can you try summarizing the following table to explain the values in a human readable format in either of the following ways:\n",
        "\n",
        "a. Column wise <br>\n",
        "b. Row wise <br>\n",
        "c. Complete table summarization"
      ],
      "metadata": {
        "id": "MZhFT5XKDv08"
      }
    },
    {
      "cell_type": "markdown",
      "source": [
        "---\n",
        "## Solution Approch (Using Column-wise):\n",
        "1. Creating a sentence for each datapoint, utilized the column and row descriptions of the data.\n",
        "\n",
        "```\n",
        "    For example: For the data at (0, 0): \n",
        "            sentence = January 20.7 Average Temperature °C\n",
        "```\n",
        "\n",
        "2. Using different approaches to converting the above sentence into meaningful sentences: \n",
        "\n",
        "> In order to generate more meaningful variations of the sentence mentioned above, I employ three approaches. All of these approaches are based on a common basic model, i.e. Text2Text model:\n",
        "\n",
        "\n",
        "        a. Direct Text2Text: directly to generate alternative sentences by utilizing the Text2Text generation pipeline\n",
        "        b. Bag Of Words: Adding some few extra words to the sentence for introducing variations and then feeding it into the text2text model\n",
        "        c. Masking: Using Masking pipelines to add meaningful words to the original sentence then passed through the Text2Text generation model to generate alternative versions\n",
        "           By masking specific parts of the sentence and replacing them with words can provide more context or specificity  \n",
        "\n",
        "\n",
        "3. Making a new sentence by combining the generated sentences from the Text2Text model column-wise \n",
        "\n",
        "\n",
        "> After generating alternative sentences for each datapoint, I combine the generated sentences column-wise. By aligning the sentences corresponding to each column, I create a new sentence that incorporates information from all the columns. This combined sentence provides a comprehensive representation of the data, highlighting the relationship between different column values\n",
        "\n",
        "\n",
        "4. Then utilizing summarizing pipelines to summarize the whole combined sentence:\n",
        "\n",
        "\n",
        "> To summarize the entire combined sentence, I employ Summarizing pipelines. By the combined sentence and extracting the most important details, I generate a summarized version that captures the key aspects of the original information\n",
        "\n",
        "\n",
        "\n",
        "\n",
        "---\n",
        "\n",
        "\n",
        "\n"
      ],
      "metadata": {
        "id": "3B8A6bX0UBla"
      }
    },
    {
      "cell_type": "markdown",
      "source": [
        "# Installing required dependencies"
      ],
      "metadata": {
        "id": "CZYfXPB5b2FS"
      }
    },
    {
      "cell_type": "code",
      "execution_count": 1,
      "metadata": {
        "id": "hkoYr_urjznE",
        "colab": {
          "base_uri": "https://localhost:8080/"
        },
        "outputId": "c63689f9-3c6f-420e-9552-7b5227a1428a"
      },
      "outputs": [
        {
          "output_type": "stream",
          "name": "stdout",
          "text": [
            "Looking in indexes: https://pypi.org/simple, https://us-python.pkg.dev/colab-wheels/public/simple/\n",
            "Requirement already satisfied: transformers in /usr/local/lib/python3.10/dist-packages (4.29.1)\n",
            "Requirement already satisfied: datasets in /usr/local/lib/python3.10/dist-packages (2.12.0)\n",
            "Requirement already satisfied: filelock in /usr/local/lib/python3.10/dist-packages (from transformers) (3.12.0)\n",
            "Requirement already satisfied: huggingface-hub<1.0,>=0.14.1 in /usr/local/lib/python3.10/dist-packages (from transformers) (0.14.1)\n",
            "Requirement already satisfied: numpy>=1.17 in /usr/local/lib/python3.10/dist-packages (from transformers) (1.22.4)\n",
            "Requirement already satisfied: packaging>=20.0 in /usr/local/lib/python3.10/dist-packages (from transformers) (23.1)\n",
            "Requirement already satisfied: pyyaml>=5.1 in /usr/local/lib/python3.10/dist-packages (from transformers) (6.0)\n",
            "Requirement already satisfied: regex!=2019.12.17 in /usr/local/lib/python3.10/dist-packages (from transformers) (2022.10.31)\n",
            "Requirement already satisfied: requests in /usr/local/lib/python3.10/dist-packages (from transformers) (2.27.1)\n",
            "Requirement already satisfied: tokenizers!=0.11.3,<0.14,>=0.11.1 in /usr/local/lib/python3.10/dist-packages (from transformers) (0.13.3)\n",
            "Requirement already satisfied: tqdm>=4.27 in /usr/local/lib/python3.10/dist-packages (from transformers) (4.65.0)\n",
            "Requirement already satisfied: pyarrow>=8.0.0 in /usr/local/lib/python3.10/dist-packages (from datasets) (9.0.0)\n",
            "Requirement already satisfied: dill<0.3.7,>=0.3.0 in /usr/local/lib/python3.10/dist-packages (from datasets) (0.3.6)\n",
            "Requirement already satisfied: pandas in /usr/local/lib/python3.10/dist-packages (from datasets) (1.5.3)\n",
            "Requirement already satisfied: xxhash in /usr/local/lib/python3.10/dist-packages (from datasets) (3.2.0)\n",
            "Requirement already satisfied: multiprocess in /usr/local/lib/python3.10/dist-packages (from datasets) (0.70.14)\n",
            "Requirement already satisfied: fsspec[http]>=2021.11.1 in /usr/local/lib/python3.10/dist-packages (from datasets) (2023.4.0)\n",
            "Requirement already satisfied: aiohttp in /usr/local/lib/python3.10/dist-packages (from datasets) (3.8.4)\n",
            "Requirement already satisfied: responses<0.19 in /usr/local/lib/python3.10/dist-packages (from datasets) (0.18.0)\n",
            "Requirement already satisfied: attrs>=17.3.0 in /usr/local/lib/python3.10/dist-packages (from aiohttp->datasets) (23.1.0)\n",
            "Requirement already satisfied: charset-normalizer<4.0,>=2.0 in /usr/local/lib/python3.10/dist-packages (from aiohttp->datasets) (2.0.12)\n",
            "Requirement already satisfied: multidict<7.0,>=4.5 in /usr/local/lib/python3.10/dist-packages (from aiohttp->datasets) (6.0.4)\n",
            "Requirement already satisfied: async-timeout<5.0,>=4.0.0a3 in /usr/local/lib/python3.10/dist-packages (from aiohttp->datasets) (4.0.2)\n",
            "Requirement already satisfied: yarl<2.0,>=1.0 in /usr/local/lib/python3.10/dist-packages (from aiohttp->datasets) (1.9.2)\n",
            "Requirement already satisfied: frozenlist>=1.1.1 in /usr/local/lib/python3.10/dist-packages (from aiohttp->datasets) (1.3.3)\n",
            "Requirement already satisfied: aiosignal>=1.1.2 in /usr/local/lib/python3.10/dist-packages (from aiohttp->datasets) (1.3.1)\n",
            "Requirement already satisfied: typing-extensions>=3.7.4.3 in /usr/local/lib/python3.10/dist-packages (from huggingface-hub<1.0,>=0.14.1->transformers) (4.5.0)\n",
            "Requirement already satisfied: urllib3<1.27,>=1.21.1 in /usr/local/lib/python3.10/dist-packages (from requests->transformers) (1.26.15)\n",
            "Requirement already satisfied: certifi>=2017.4.17 in /usr/local/lib/python3.10/dist-packages (from requests->transformers) (2022.12.7)\n",
            "Requirement already satisfied: idna<4,>=2.5 in /usr/local/lib/python3.10/dist-packages (from requests->transformers) (3.4)\n",
            "Requirement already satisfied: python-dateutil>=2.8.1 in /usr/local/lib/python3.10/dist-packages (from pandas->datasets) (2.8.2)\n",
            "Requirement already satisfied: pytz>=2020.1 in /usr/local/lib/python3.10/dist-packages (from pandas->datasets) (2022.7.1)\n",
            "Requirement already satisfied: six>=1.5 in /usr/local/lib/python3.10/dist-packages (from python-dateutil>=2.8.1->pandas->datasets) (1.16.0)\n",
            "Looking in indexes: https://pypi.org/simple, https://us-python.pkg.dev/colab-wheels/public/simple/\n",
            "Requirement already satisfied: sentencepiece in /usr/local/lib/python3.10/dist-packages (0.1.99)\n",
            "Looking in indexes: https://pypi.org/simple, https://us-python.pkg.dev/colab-wheels/public/simple/\n",
            "Requirement already satisfied: transformers[sentencepiece] in /usr/local/lib/python3.10/dist-packages (4.29.1)\n",
            "Requirement already satisfied: filelock in /usr/local/lib/python3.10/dist-packages (from transformers[sentencepiece]) (3.12.0)\n",
            "Requirement already satisfied: huggingface-hub<1.0,>=0.14.1 in /usr/local/lib/python3.10/dist-packages (from transformers[sentencepiece]) (0.14.1)\n",
            "Requirement already satisfied: numpy>=1.17 in /usr/local/lib/python3.10/dist-packages (from transformers[sentencepiece]) (1.22.4)\n",
            "Requirement already satisfied: packaging>=20.0 in /usr/local/lib/python3.10/dist-packages (from transformers[sentencepiece]) (23.1)\n",
            "Requirement already satisfied: pyyaml>=5.1 in /usr/local/lib/python3.10/dist-packages (from transformers[sentencepiece]) (6.0)\n",
            "Requirement already satisfied: regex!=2019.12.17 in /usr/local/lib/python3.10/dist-packages (from transformers[sentencepiece]) (2022.10.31)\n",
            "Requirement already satisfied: requests in /usr/local/lib/python3.10/dist-packages (from transformers[sentencepiece]) (2.27.1)\n",
            "Requirement already satisfied: tokenizers!=0.11.3,<0.14,>=0.11.1 in /usr/local/lib/python3.10/dist-packages (from transformers[sentencepiece]) (0.13.3)\n",
            "Requirement already satisfied: tqdm>=4.27 in /usr/local/lib/python3.10/dist-packages (from transformers[sentencepiece]) (4.65.0)\n",
            "Requirement already satisfied: sentencepiece!=0.1.92,>=0.1.91 in /usr/local/lib/python3.10/dist-packages (from transformers[sentencepiece]) (0.1.99)\n",
            "Requirement already satisfied: protobuf<=3.20.2 in /usr/local/lib/python3.10/dist-packages (from transformers[sentencepiece]) (3.20.2)\n",
            "Requirement already satisfied: fsspec in /usr/local/lib/python3.10/dist-packages (from huggingface-hub<1.0,>=0.14.1->transformers[sentencepiece]) (2023.4.0)\n",
            "Requirement already satisfied: typing-extensions>=3.7.4.3 in /usr/local/lib/python3.10/dist-packages (from huggingface-hub<1.0,>=0.14.1->transformers[sentencepiece]) (4.5.0)\n",
            "Requirement already satisfied: urllib3<1.27,>=1.21.1 in /usr/local/lib/python3.10/dist-packages (from requests->transformers[sentencepiece]) (1.26.15)\n",
            "Requirement already satisfied: certifi>=2017.4.17 in /usr/local/lib/python3.10/dist-packages (from requests->transformers[sentencepiece]) (2022.12.7)\n",
            "Requirement already satisfied: charset-normalizer~=2.0.0 in /usr/local/lib/python3.10/dist-packages (from requests->transformers[sentencepiece]) (2.0.12)\n",
            "Requirement already satisfied: idna<4,>=2.5 in /usr/local/lib/python3.10/dist-packages (from requests->transformers[sentencepiece]) (3.4)\n"
          ]
        }
      ],
      "source": [
        "# Install the transformers and datasets packages\n",
        "!pip install transformers datasets\n",
        "\n",
        "# Install the sentencepiece package\n",
        "!pip install sentencepiece\n",
        "\n",
        "# Install the transformers package with the sentencepiece extra\n",
        "!pip install transformers[sentencepiece]\n"
      ]
    },
    {
      "cell_type": "code",
      "source": [
        "# Import the necessary library\n",
        "import pandas as pd\n",
        "\n",
        "# Define the column names\n",
        "column_name = [\" \", \"January\", \"Februray\", \"March\", \"April\", \"May\", \"June\", \"July\", \"August\", \"September\", \"October\", \"November\", \"December\"]\n",
        "\n",
        "# Define the data as a list of lists\n",
        "data = [[\"Average Temperature °C\", 20.7, 22.8, 25.4, 26.6, 25.5, 23.2, 22.4, 22.2, 22.4, 22.0, 20.9, 20.1],\n",
        "        [\"Lowest Temperature °C\", 14.6, 16.1, 18.6, 20.8, 21.0, 20.2, 19.8, 19.4, 19.0, 18.4, 16.7, 15.1],\n",
        "        [\"Maximum Temperature °C\", 27.4, 29.6, 32.1, 32.8, 31.2, 27.5, 26.4, 26.1, 26.7, 26.4, 25.7, 25.8],\n",
        "        [\"Rainfall mm\", 4.0, 7.0, 16.0, 45.0, 131.0, 126.0, 134.0, 137.0, 125.0, 147.0, 65.0, 23.0],\n",
        "        [\"average Sunlight per day hour\", 8.9, 9.8, 10.4, 10.6, 9.5, 6.8, 6.1, 5.7, 6.4, 7.2, 7.1, 7.5]]\n",
        "\n",
        "# Creating a DataFrame \n",
        "df = pd.DataFrame(data, columns=column_name)\n",
        "df"
      ],
      "metadata": {
        "id": "e_2gdhtykNP1",
        "colab": {
          "base_uri": "https://localhost:8080/",
          "height": 206
        },
        "outputId": "046eccc6-4edd-42bc-9920-04cebb3b8724"
      },
      "execution_count": 2,
      "outputs": [
        {
          "output_type": "execute_result",
          "data": {
            "text/plain": [
              "                                  January  Februray  March  April    May  \\\n",
              "0         Average Temperature °C     20.7      22.8   25.4   26.6   25.5   \n",
              "1          Lowest Temperature °C     14.6      16.1   18.6   20.8   21.0   \n",
              "2         Maximum Temperature °C     27.4      29.6   32.1   32.8   31.2   \n",
              "3                    Rainfall mm      4.0       7.0   16.0   45.0  131.0   \n",
              "4  average Sunlight per day hour      8.9       9.8   10.4   10.6    9.5   \n",
              "\n",
              "    June   July  August  September  October  November  December  \n",
              "0   23.2   22.4    22.2       22.4     22.0      20.9      20.1  \n",
              "1   20.2   19.8    19.4       19.0     18.4      16.7      15.1  \n",
              "2   27.5   26.4    26.1       26.7     26.4      25.7      25.8  \n",
              "3  126.0  134.0   137.0      125.0    147.0      65.0      23.0  \n",
              "4    6.8    6.1     5.7        6.4      7.2       7.1       7.5  "
            ],
            "text/html": [
              "\n",
              "  <div id=\"df-4e5ceba0-b622-4037-bc8b-4ad145fbd5ae\">\n",
              "    <div class=\"colab-df-container\">\n",
              "      <div>\n",
              "<style scoped>\n",
              "    .dataframe tbody tr th:only-of-type {\n",
              "        vertical-align: middle;\n",
              "    }\n",
              "\n",
              "    .dataframe tbody tr th {\n",
              "        vertical-align: top;\n",
              "    }\n",
              "\n",
              "    .dataframe thead th {\n",
              "        text-align: right;\n",
              "    }\n",
              "</style>\n",
              "<table border=\"1\" class=\"dataframe\">\n",
              "  <thead>\n",
              "    <tr style=\"text-align: right;\">\n",
              "      <th></th>\n",
              "      <th></th>\n",
              "      <th>January</th>\n",
              "      <th>Februray</th>\n",
              "      <th>March</th>\n",
              "      <th>April</th>\n",
              "      <th>May</th>\n",
              "      <th>June</th>\n",
              "      <th>July</th>\n",
              "      <th>August</th>\n",
              "      <th>September</th>\n",
              "      <th>October</th>\n",
              "      <th>November</th>\n",
              "      <th>December</th>\n",
              "    </tr>\n",
              "  </thead>\n",
              "  <tbody>\n",
              "    <tr>\n",
              "      <th>0</th>\n",
              "      <td>Average Temperature °C</td>\n",
              "      <td>20.7</td>\n",
              "      <td>22.8</td>\n",
              "      <td>25.4</td>\n",
              "      <td>26.6</td>\n",
              "      <td>25.5</td>\n",
              "      <td>23.2</td>\n",
              "      <td>22.4</td>\n",
              "      <td>22.2</td>\n",
              "      <td>22.4</td>\n",
              "      <td>22.0</td>\n",
              "      <td>20.9</td>\n",
              "      <td>20.1</td>\n",
              "    </tr>\n",
              "    <tr>\n",
              "      <th>1</th>\n",
              "      <td>Lowest Temperature °C</td>\n",
              "      <td>14.6</td>\n",
              "      <td>16.1</td>\n",
              "      <td>18.6</td>\n",
              "      <td>20.8</td>\n",
              "      <td>21.0</td>\n",
              "      <td>20.2</td>\n",
              "      <td>19.8</td>\n",
              "      <td>19.4</td>\n",
              "      <td>19.0</td>\n",
              "      <td>18.4</td>\n",
              "      <td>16.7</td>\n",
              "      <td>15.1</td>\n",
              "    </tr>\n",
              "    <tr>\n",
              "      <th>2</th>\n",
              "      <td>Maximum Temperature °C</td>\n",
              "      <td>27.4</td>\n",
              "      <td>29.6</td>\n",
              "      <td>32.1</td>\n",
              "      <td>32.8</td>\n",
              "      <td>31.2</td>\n",
              "      <td>27.5</td>\n",
              "      <td>26.4</td>\n",
              "      <td>26.1</td>\n",
              "      <td>26.7</td>\n",
              "      <td>26.4</td>\n",
              "      <td>25.7</td>\n",
              "      <td>25.8</td>\n",
              "    </tr>\n",
              "    <tr>\n",
              "      <th>3</th>\n",
              "      <td>Rainfall mm</td>\n",
              "      <td>4.0</td>\n",
              "      <td>7.0</td>\n",
              "      <td>16.0</td>\n",
              "      <td>45.0</td>\n",
              "      <td>131.0</td>\n",
              "      <td>126.0</td>\n",
              "      <td>134.0</td>\n",
              "      <td>137.0</td>\n",
              "      <td>125.0</td>\n",
              "      <td>147.0</td>\n",
              "      <td>65.0</td>\n",
              "      <td>23.0</td>\n",
              "    </tr>\n",
              "    <tr>\n",
              "      <th>4</th>\n",
              "      <td>average Sunlight per day hour</td>\n",
              "      <td>8.9</td>\n",
              "      <td>9.8</td>\n",
              "      <td>10.4</td>\n",
              "      <td>10.6</td>\n",
              "      <td>9.5</td>\n",
              "      <td>6.8</td>\n",
              "      <td>6.1</td>\n",
              "      <td>5.7</td>\n",
              "      <td>6.4</td>\n",
              "      <td>7.2</td>\n",
              "      <td>7.1</td>\n",
              "      <td>7.5</td>\n",
              "    </tr>\n",
              "  </tbody>\n",
              "</table>\n",
              "</div>\n",
              "      <button class=\"colab-df-convert\" onclick=\"convertToInteractive('df-4e5ceba0-b622-4037-bc8b-4ad145fbd5ae')\"\n",
              "              title=\"Convert this dataframe to an interactive table.\"\n",
              "              style=\"display:none;\">\n",
              "        \n",
              "  <svg xmlns=\"http://www.w3.org/2000/svg\" height=\"24px\"viewBox=\"0 0 24 24\"\n",
              "       width=\"24px\">\n",
              "    <path d=\"M0 0h24v24H0V0z\" fill=\"none\"/>\n",
              "    <path d=\"M18.56 5.44l.94 2.06.94-2.06 2.06-.94-2.06-.94-.94-2.06-.94 2.06-2.06.94zm-11 1L8.5 8.5l.94-2.06 2.06-.94-2.06-.94L8.5 2.5l-.94 2.06-2.06.94zm10 10l.94 2.06.94-2.06 2.06-.94-2.06-.94-.94-2.06-.94 2.06-2.06.94z\"/><path d=\"M17.41 7.96l-1.37-1.37c-.4-.4-.92-.59-1.43-.59-.52 0-1.04.2-1.43.59L10.3 9.45l-7.72 7.72c-.78.78-.78 2.05 0 2.83L4 21.41c.39.39.9.59 1.41.59.51 0 1.02-.2 1.41-.59l7.78-7.78 2.81-2.81c.8-.78.8-2.07 0-2.86zM5.41 20L4 18.59l7.72-7.72 1.47 1.35L5.41 20z\"/>\n",
              "  </svg>\n",
              "      </button>\n",
              "      \n",
              "  <style>\n",
              "    .colab-df-container {\n",
              "      display:flex;\n",
              "      flex-wrap:wrap;\n",
              "      gap: 12px;\n",
              "    }\n",
              "\n",
              "    .colab-df-convert {\n",
              "      background-color: #E8F0FE;\n",
              "      border: none;\n",
              "      border-radius: 50%;\n",
              "      cursor: pointer;\n",
              "      display: none;\n",
              "      fill: #1967D2;\n",
              "      height: 32px;\n",
              "      padding: 0 0 0 0;\n",
              "      width: 32px;\n",
              "    }\n",
              "\n",
              "    .colab-df-convert:hover {\n",
              "      background-color: #E2EBFA;\n",
              "      box-shadow: 0px 1px 2px rgba(60, 64, 67, 0.3), 0px 1px 3px 1px rgba(60, 64, 67, 0.15);\n",
              "      fill: #174EA6;\n",
              "    }\n",
              "\n",
              "    [theme=dark] .colab-df-convert {\n",
              "      background-color: #3B4455;\n",
              "      fill: #D2E3FC;\n",
              "    }\n",
              "\n",
              "    [theme=dark] .colab-df-convert:hover {\n",
              "      background-color: #434B5C;\n",
              "      box-shadow: 0px 1px 3px 1px rgba(0, 0, 0, 0.15);\n",
              "      filter: drop-shadow(0px 1px 2px rgba(0, 0, 0, 0.3));\n",
              "      fill: #FFFFFF;\n",
              "    }\n",
              "  </style>\n",
              "\n",
              "      <script>\n",
              "        const buttonEl =\n",
              "          document.querySelector('#df-4e5ceba0-b622-4037-bc8b-4ad145fbd5ae button.colab-df-convert');\n",
              "        buttonEl.style.display =\n",
              "          google.colab.kernel.accessAllowed ? 'block' : 'none';\n",
              "\n",
              "        async function convertToInteractive(key) {\n",
              "          const element = document.querySelector('#df-4e5ceba0-b622-4037-bc8b-4ad145fbd5ae');\n",
              "          const dataTable =\n",
              "            await google.colab.kernel.invokeFunction('convertToInteractive',\n",
              "                                                     [key], {});\n",
              "          if (!dataTable) return;\n",
              "\n",
              "          const docLinkHtml = 'Like what you see? Visit the ' +\n",
              "            '<a target=\"_blank\" href=https://colab.research.google.com/notebooks/data_table.ipynb>data table notebook</a>'\n",
              "            + ' to learn more about interactive tables.';\n",
              "          element.innerHTML = '';\n",
              "          dataTable['output_type'] = 'display_data';\n",
              "          await google.colab.output.renderOutput(dataTable, element);\n",
              "          const docLink = document.createElement('div');\n",
              "          docLink.innerHTML = docLinkHtml;\n",
              "          element.appendChild(docLink);\n",
              "        }\n",
              "      </script>\n",
              "    </div>\n",
              "  </div>\n",
              "  "
            ]
          },
          "metadata": {},
          "execution_count": 2
        }
      ]
    },
    {
      "cell_type": "code",
      "source": [
        "# Calculate the number of columns and rows of the dataset\n",
        "columns = len(column_name)\n",
        "rows = len(data)\n",
        "print (rows, columns)"
      ],
      "metadata": {
        "id": "8O0mO3tKkQyK",
        "colab": {
          "base_uri": "https://localhost:8080/"
        },
        "outputId": "cad106be-45ec-4ebe-fc8c-d9715645f65f"
      },
      "execution_count": 3,
      "outputs": [
        {
          "output_type": "stream",
          "name": "stdout",
          "text": [
            "5 13\n"
          ]
        }
      ]
    },
    {
      "cell_type": "markdown",
      "source": [
        "### 1. Creating a sentence for each datapoint, utilized the column and row descriptions of the data\n",
        "\n"
      ],
      "metadata": {
        "id": "Ngvx63e1cWLJ"
      }
    },
    {
      "cell_type": "code",
      "source": [
        "# creating a list of sentences based on the DataFrame. Each sentence follows the format: Column name + Data value + Unit of data point + Row name. \n",
        "sentences = []\n",
        "\n",
        "for col in range(1, columns):\n",
        "    sen = []\n",
        "    for row in range(rows):     \n",
        "        # format of sentence: Column_name + datavalue + Unit of datapoint + Row_name \n",
        "        text = column_name[col] + \" \" + str(data[row][col]) + str(data[row][0].split()[-1]) + \" \" + \" \". join(data[row][0].split()[:-1])\n",
        "        sen.append(text)\n",
        "    sentences.append(sen)\n",
        "\n",
        "    \n",
        "sentences[0]"
      ],
      "metadata": {
        "id": "KxuYTadrkTJi",
        "colab": {
          "base_uri": "https://localhost:8080/"
        },
        "outputId": "ac926c22-bcab-494c-cc75-d612c44deebe"
      },
      "execution_count": 4,
      "outputs": [
        {
          "output_type": "execute_result",
          "data": {
            "text/plain": [
              "['January 20.7°C Average Temperature',\n",
              " 'January 14.6°C Lowest Temperature',\n",
              " 'January 27.4°C Maximum Temperature',\n",
              " 'January 4.0mm Rainfall',\n",
              " 'January 8.9hour average Sunlight per day']"
            ]
          },
          "metadata": {},
          "execution_count": 4
        }
      ]
    },
    {
      "cell_type": "markdown",
      "source": [
        "# Importing necessary models \n",
        "\n",
        "### a. Text2Text Model"
      ],
      "metadata": {
        "id": "32-Us9Zmd9hI"
      }
    },
    {
      "cell_type": "code",
      "source": [
        "from transformers import AutoModelWithLMHead, AutoTokenizer\n",
        "\n",
        "# specify the model here\n",
        "model_name = \"mrm8488/t5-base-finetuned-common_gen\" \n",
        "tokenizer = AutoTokenizer.from_pretrained(model_name)\n",
        "model = AutoModelWithLMHead.from_pretrained(model_name)\n",
        "\n",
        "def gen_sentence(words, max_length=500):\n",
        "  input_text = words\n",
        "  features = tokenizer([input_text], return_tensors='pt')\n",
        "\n",
        "  output = model.generate(input_ids=features['input_ids'], \n",
        "               attention_mask=features['attention_mask'],\n",
        "               max_length=max_length)\n",
        "\n",
        "  return tokenizer.decode(output[0], skip_special_tokens=True)"
      ],
      "metadata": {
        "id": "flrJKfdOkVRH",
        "colab": {
          "base_uri": "https://localhost:8080/"
        },
        "outputId": "684d5b92-507d-454f-b23b-812e1442db89"
      },
      "execution_count": 5,
      "outputs": [
        {
          "output_type": "stream",
          "name": "stderr",
          "text": [
            "/usr/local/lib/python3.10/dist-packages/transformers/models/auto/modeling_auto.py:1352: FutureWarning: The class `AutoModelWithLMHead` is deprecated and will be removed in a future version. Please use `AutoModelForCausalLM` for causal language models, `AutoModelForMaskedLM` for masked language models and `AutoModelForSeq2SeqLM` for encoder-decoder models.\n",
            "  warnings.warn(\n"
          ]
        }
      ]
    },
    {
      "cell_type": "markdown",
      "source": [
        "### b. Masking pipeline "
      ],
      "metadata": {
        "id": "sfz25qCdeZn4"
      }
    },
    {
      "cell_type": "code",
      "source": [
        "from transformers import pipeline\n",
        "\n",
        "unmasker = pipeline('fill-mask', model='bert-base-uncased')"
      ],
      "metadata": {
        "id": "0jRg0uXxkXzS",
        "colab": {
          "base_uri": "https://localhost:8080/"
        },
        "outputId": "4c85863a-01fa-47c1-cbb8-9a437e0b7bd2"
      },
      "execution_count": 6,
      "outputs": [
        {
          "output_type": "stream",
          "name": "stderr",
          "text": [
            "Some weights of the model checkpoint at bert-base-uncased were not used when initializing BertForMaskedLM: ['cls.seq_relationship.bias', 'cls.seq_relationship.weight']\n",
            "- This IS expected if you are initializing BertForMaskedLM from the checkpoint of a model trained on another task or with another architecture (e.g. initializing a BertForSequenceClassification model from a BertForPreTraining model).\n",
            "- This IS NOT expected if you are initializing BertForMaskedLM from the checkpoint of a model that you expect to be exactly identical (initializing a BertForSequenceClassification model from a BertForSequenceClassification model).\n"
          ]
        }
      ]
    },
    {
      "cell_type": "markdown",
      "source": [
        "### c. Summarizer Pipeline"
      ],
      "metadata": {
        "id": "p7KnIVqkgG2A"
      }
    },
    {
      "cell_type": "code",
      "source": [
        "from transformers import pipeline\n",
        "\n",
        "summarizer = pipeline(\"summarization\", model=\"facebook/bart-large-cnn\")"
      ],
      "metadata": {
        "id": "kzlE07axf88E",
        "colab": {
          "base_uri": "https://localhost:8080/",
          "height": 177,
          "referenced_widgets": [
            "74e296b6ff63427ba2a41ec2ae03529c",
            "21b5a312f1f244eca5ff01af64cd09e2",
            "464356da3fad4f3a9cbe2080fd7451bf",
            "acb6c931bb204286be7fa9202cc42b10",
            "8be47aab7f9640e7aeb21fec831cabb9",
            "dead7fc0128d45a29eda48ab076cf1fd",
            "5fa21275500940a29457855d1e71f4e2",
            "1cdbeec58f1640b38e897d6c532e9f71",
            "cb6af057ad55467285d1075151daf3b1",
            "de691a6f044c46e6861b039cdcac2797",
            "c182cad9ae414d15bdad0d90a5dd2b8f",
            "f400bd63b16c432b872024f613dceff0",
            "22268b676bc643929eef73aa4e76d1e8",
            "94d77b63a467465c98833403b5a6c470",
            "941a4aebd1ea44aa94b2f46cf7d8d12b",
            "539e0724451a4ad0a34dd908566e5949",
            "7dc0bb7f36684a41bacacd18de66beb3",
            "7334033b22e24b0ca7eb0f75c0e983d8",
            "b8fd54387654469db8643a5b2dbe7acb",
            "f8f0feef3db74900aa65742b75987966",
            "bb71ee80b4ed4b11ade156ca7405c5ae",
            "78223e4dc1884612ad3f0fff0ff321cd",
            "4e95dcc210464436b506db94ff36e04a",
            "0e17d00f6f8a4bb7a69d7cf6ab28173f",
            "734b974c819447ecb09e538dfa33884a",
            "f4481d4b09d84cc7b1a6c6e9f611cfaa",
            "115bd8aee9c74f5793ec5fe70be772f4",
            "b8b055cade804c76b246fcd2154dcbe2",
            "110f9f1886eb4b9d94b7d5fbd9214a9a",
            "c585b763ec4145089bc1bb541439b868",
            "b6350da3c4894e0fab0dc3a322bf013b",
            "58706da6a88543a2aa37aa1b8fd68a37",
            "521e215a7ba24e2cb5197e3982931bdc",
            "8067acac26b4486bb9643e46745fb7fa",
            "aa1c6159ef3e4346ae42c47211e428ae",
            "291acc0c180e4bd992c2a4b2126dbc76",
            "71c630dce7874783bba3f19777a36ec9",
            "50ba5e3955b8404da6e3a0c764849e8d",
            "4da192eac26e440da79d060a141983c7",
            "308f0dab5f214603afb4dcaa0142b8f5",
            "e1757446e81f489b9a1e8cd2c302278c",
            "6a09f5f38dbb4f989cabc1ef4f2ed7e8",
            "4ee74630f1f34491b87c5c8823c17bea",
            "874c6941528e41988d02d44bf3d8c53b",
            "8f0f2dee64784cbea903b95655a4fd92",
            "c4939702496540f28c2557a0e4654623",
            "aef23f12d3234694ae78c809f77243e6",
            "cafe5b0daafc4f4c8864bc298e1a1897",
            "c8d3f6b7d4b44c6a9573514794b01f40",
            "1220f2134e8146ca815d29d6953b2686",
            "7fa32201c12846ca904a30f21efbe0f7",
            "64018943f36e4e28987c8f27e9b86dba",
            "e4d7d114c2074a9eab0969ebc28c66fb",
            "d0285022a69f4895b166d0eead6e5b8a",
            "fd0d496cfe2f41fe9628f02100d3af1a"
          ]
        },
        "outputId": "7aa57cb7-1f94-4744-9cad-3cc51b399416"
      },
      "execution_count": 7,
      "outputs": [
        {
          "output_type": "display_data",
          "data": {
            "text/plain": [
              "Downloading pytorch_model.bin:   0%|          | 0.00/1.63G [00:00<?, ?B/s]"
            ],
            "application/vnd.jupyter.widget-view+json": {
              "version_major": 2,
              "version_minor": 0,
              "model_id": "74e296b6ff63427ba2a41ec2ae03529c"
            }
          },
          "metadata": {}
        },
        {
          "output_type": "display_data",
          "data": {
            "text/plain": [
              "Downloading (…)neration_config.json:   0%|          | 0.00/363 [00:00<?, ?B/s]"
            ],
            "application/vnd.jupyter.widget-view+json": {
              "version_major": 2,
              "version_minor": 0,
              "model_id": "f400bd63b16c432b872024f613dceff0"
            }
          },
          "metadata": {}
        },
        {
          "output_type": "display_data",
          "data": {
            "text/plain": [
              "Downloading (…)olve/main/vocab.json:   0%|          | 0.00/899k [00:00<?, ?B/s]"
            ],
            "application/vnd.jupyter.widget-view+json": {
              "version_major": 2,
              "version_minor": 0,
              "model_id": "4e95dcc210464436b506db94ff36e04a"
            }
          },
          "metadata": {}
        },
        {
          "output_type": "display_data",
          "data": {
            "text/plain": [
              "Downloading (…)olve/main/merges.txt:   0%|          | 0.00/456k [00:00<?, ?B/s]"
            ],
            "application/vnd.jupyter.widget-view+json": {
              "version_major": 2,
              "version_minor": 0,
              "model_id": "8067acac26b4486bb9643e46745fb7fa"
            }
          },
          "metadata": {}
        },
        {
          "output_type": "display_data",
          "data": {
            "text/plain": [
              "Downloading (…)/main/tokenizer.json:   0%|          | 0.00/1.36M [00:00<?, ?B/s]"
            ],
            "application/vnd.jupyter.widget-view+json": {
              "version_major": 2,
              "version_minor": 0,
              "model_id": "8f0f2dee64784cbea903b95655a4fd92"
            }
          },
          "metadata": {}
        }
      ]
    },
    {
      "cell_type": "markdown",
      "source": [
        "# Defining necessary functions"
      ],
      "metadata": {
        "id": "1KkFoHELqIhF"
      }
    },
    {
      "cell_type": "code",
      "source": [
        "# This function takes a list of sentences as input and combines them into larger sentences\n",
        "# This function uses another function gen_sentence (text2text model function) to generate a sentence from a given input sentence\n",
        "\n",
        "def combine_sentence(sentences):\n",
        "    to_summarize = []\n",
        "    \n",
        "    # Iterate over the list of sentences\n",
        "    for sentence_list in sentences:\n",
        "        tmp = ''\n",
        "        \n",
        "        # Iterate over the sentence in each sentence_list\n",
        "        for sentence in sentence_list:\n",
        "            # Generate a sentence using the gen_sentence function and append it to tmp\n",
        "            tmp += gen_sentence(sentence) + \" \"\n",
        "        \n",
        "        # Append the combined sentence to the to_summarize list\n",
        "        to_summarize.append(tmp)\n",
        "    \n",
        "    return to_summarize\n"
      ],
      "metadata": {
        "id": "wYYGADkKqZBC"
      },
      "execution_count": 8,
      "outputs": []
    },
    {
      "cell_type": "code",
      "source": [
        "# This functin performs text summarization on the input sentences using a summarizer model\n",
        "\n",
        "def summarize(to_summarize, epochs=1):\n",
        "    import copy \n",
        "    \n",
        "    # Create a deep copy of the input list to avoid modifying the original list\n",
        "    toSummarize = copy.deepcopy(to_summarize)\n",
        "\n",
        "    # Perform summarization for the specified number of epochs\n",
        "    for epoch in range(epochs):\n",
        "\n",
        "        # Iterate over the sentences in the toSummarize list\n",
        "        for idx, sentn in enumerate(toSummarize):\n",
        "\n",
        "            # Generate a summarized text for the current sentence using the summarizer model\n",
        "            summarized_text = summarizer(sentn, max_length=int(2*len(sentn.split())), min_length=int(len(sentn.split())*1.5), do_sample=False)\n",
        "            \n",
        "            # Extract the summarized text from the generated output\n",
        "            for dictionary in summarized_text:\n",
        "                for key, value in dictionary.items():\n",
        "                    # Update the current sentence with the summarized text\n",
        "                    toSummarize[idx] = value\n",
        "    \n",
        "    return toSummarize\n"
      ],
      "metadata": {
        "id": "wP9JxS-zsWVi"
      },
      "execution_count": 9,
      "outputs": []
    },
    {
      "cell_type": "markdown",
      "source": [
        "# 2. Different approaches to converting the sentence into meaningful sentences:\n",
        "\n",
        "## a. Approch 1:\n",
        "\n",
        "\n",
        "\n",
        "> Direct Text2Text: Using directly Text2Text generation pipeline\n",
        "\n"
      ],
      "metadata": {
        "id": "cJYOlcHmgYWt"
      }
    },
    {
      "cell_type": "code",
      "source": [
        "to_summarize = combine_sentence(sentences)\n",
        "to_summarize"
      ],
      "metadata": {
        "id": "gcV5y6TJkZb-",
        "colab": {
          "base_uri": "https://localhost:8080/"
        },
        "outputId": "5ab86284-c0df-4aee-b2cb-87f0ddfd5440"
      },
      "execution_count": 10,
      "outputs": [
        {
          "output_type": "execute_result",
          "data": {
            "text/plain": [
              "['the average temperature in the city is 20.7°C on a sunny day in January lowest temperature in a month of January is 14.6°C. a smoky winter day with temperatures of 27°C and a high of 68°C a 4.0mm rainfall in the mountains in winter with a high angle of the mountains average of 8.9hours of sunlight per day in January ',\n",
              " 'average temperature in the mountains of the region of Februray is 22.8°C. a smoky tidal lake with low temperatures of 16.1°C on a sunny day in the morning on the coast of the island a swan is seen in the distance as the temperature is 29.6°C at the beach a smoky 7.0mm of rainfall falls on the rocky coast of the island of Februray average of 9.8hours of sunlight per day on a foggy day ',\n",
              " 'Average temperature in the month of march is 25.4°C lowest temperature in a month is 18.6°C. a smoky cloudy day with temperatures of 32.1°C in the morning on a sunny day in march a smoky cloudy day with a maximum of 16.0mm of rainfall on the first day of march average of 10.4 hours of sunlight per day in march ',\n",
              " 'the average temperature in the city is 26.6°C on a sunny day in April lowest temperature in a month is 20.8°C in april the maximum temperature of the lake is 32.8°C on a sunny day in April a smoky cloudy day with a maximum of 45.0mm of rainfall on a spring day in the region average of 10.6hours per day in the spring ',\n",
              " 'the average temperature in the summer is 25.5°C. lowest temperature in a month is 21.0°C in may a smoky lake with a maximum temperature of 31.2°C in the summer a smoky blue sky with a high rainfall of 131mm in may 9.5hours of sunlight per day on average in the month of may ',\n",
              " 'a summers day in the mountains with temperatures of 23.2°C and a sunny day in the mountains lowest temperature in summer is 20.2°C. a smoky lake with a maximum temperature of 27.5°C in the summer a smoky lake with a total of 126.0mm of rainfall on the coast in early summer average of 6.8hours per day in sunlight. ',\n",
              " 'Average temperature in the summer is 22.4°C Lowest temperature in July was 19.8°C. a smoky lake with a maximum temperature of 26.4°C in the summer a smoky cloudy day with a high of 134mm of rainfall on the island of July average time of day with sunlight of 6.1 hours ',\n",
              " 'Average temperature in the summer is 22.2°C Lowest temperature in August was 19.4°C. a smoky summer day with a maximum temperature of 26.1°C a smoky cloudy day with a high of 137mm of rainfall on the outskirts of the city on august a day with a maximum of 5.7 hours of sunlight per day in august ',\n",
              " 'the average temperature in the month of September is 22.4°C. Lowest temperature in September was 19.0°C. the temperature in the mountains is 26.7°C at the highest point in the month of September. a smoky cloud of rainfall on the island of September with a maximum of 125.0mm average of 6.4 hours of sunlight per day in the month of September ',\n",
              " 'a smoky cloudy day with a high temperature of 22.0°C on a sunny autumn day with blue sky and blue sky lowest temperature in October was 18.4°C. a smoky cloudy day with a maximum temperature of 26.4°C in the evening on saturday, october a smoky cloud of rainfall on a sunny day in the month of October with a maximum of 147.0mm average of 7.2 hours of sunlight per day in the month of October ',\n",
              " 'the average temperature in the month of November is 20.9°C. lowest temperature in a month of November is 16.7°C the temperature in the mountains is expected to be as high as 25.7°C on saturday, november a smoky cloudy day with a total of 65.0mm of rainfall in the month of november a day with average of 7.1 hours of sunlight per day in the month of November ',\n",
              " 'Average temperature in the city on a sunny day in December with a high of 20.1°C lowest temperature in the month of December is 15.1°C. a temperature of 25°C is the maximum for the month of december. a smoky cloudy day with a high of 23.0mm of rainfall on the day of the first week of december 7.5 hours of sunlight per day on average in the month of december ']"
            ]
          },
          "metadata": {},
          "execution_count": 10
        }
      ]
    },
    {
      "cell_type": "code",
      "source": [
        "toSummarize = summarize(to_summarize, 1)"
      ],
      "metadata": {
        "id": "fq04oBzHls-5",
        "colab": {
          "base_uri": "https://localhost:8080/"
        },
        "outputId": "fc834ec7-a805-4681-8ab5-e41dc9bb96be"
      },
      "execution_count": 11,
      "outputs": [
        {
          "output_type": "stream",
          "name": "stderr",
          "text": [
            "Your max_length is set to 120, but your input_length is only 83. Since this is a summarization task, where outputs shorter than the input are typically wanted, you might consider decreasing max_length manually, e.g. summarizer('...', max_length=41)\n",
            "Your max_length is set to 150, but your input_length is only 107. Since this is a summarization task, where outputs shorter than the input are typically wanted, you might consider decreasing max_length manually, e.g. summarizer('...', max_length=53)\n",
            "Your max_length is set to 120, but your input_length is only 83. Since this is a summarization task, where outputs shorter than the input are typically wanted, you might consider decreasing max_length manually, e.g. summarizer('...', max_length=41)\n",
            "Your max_length is set to 126, but your input_length is only 86. Since this is a summarization task, where outputs shorter than the input are typically wanted, you might consider decreasing max_length manually, e.g. summarizer('...', max_length=43)\n",
            "Your max_length is set to 106, but your input_length is only 75. Since this is a summarization task, where outputs shorter than the input are typically wanted, you might consider decreasing max_length manually, e.g. summarizer('...', max_length=37)\n",
            "Your max_length is set to 116, but your input_length is only 83. Since this is a summarization task, where outputs shorter than the input are typically wanted, you might consider decreasing max_length manually, e.g. summarizer('...', max_length=41)\n",
            "Your max_length is set to 100, but your input_length is only 72. Since this is a summarization task, where outputs shorter than the input are typically wanted, you might consider decreasing max_length manually, e.g. summarizer('...', max_length=36)\n",
            "Your max_length is set to 112, but your input_length is only 80. Since this is a summarization task, where outputs shorter than the input are typically wanted, you might consider decreasing max_length manually, e.g. summarizer('...', max_length=40)\n",
            "Your max_length is set to 120, but your input_length is only 85. Since this is a summarization task, where outputs shorter than the input are typically wanted, you might consider decreasing max_length manually, e.g. summarizer('...', max_length=42)\n",
            "Your max_length is set to 150, but your input_length is only 102. Since this is a summarization task, where outputs shorter than the input are typically wanted, you might consider decreasing max_length manually, e.g. summarizer('...', max_length=51)\n",
            "Your max_length is set to 134, but your input_length is only 95. Since this is a summarization task, where outputs shorter than the input are typically wanted, you might consider decreasing max_length manually, e.g. summarizer('...', max_length=47)\n",
            "Your max_length is set to 140, but your input_length is only 94. Since this is a summarization task, where outputs shorter than the input are typically wanted, you might consider decreasing max_length manually, e.g. summarizer('...', max_length=47)\n"
          ]
        }
      ]
    },
    {
      "cell_type": "code",
      "source": [
        "toSummarize"
      ],
      "metadata": {
        "id": "xQ5grJiaku_E",
        "colab": {
          "base_uri": "https://localhost:8080/"
        },
        "outputId": "28099667-678f-4aa9-a10d-a2b9a96d3c0d"
      },
      "execution_count": 12,
      "outputs": [
        {
          "output_type": "execute_result",
          "data": {
            "text/plain": [
              "['The average temperature in the city is 20.7°C on a sunny day in January. lowest temperature in a month of January is 14.6°C. a smoky winter day with temperatures of 27°C and a high of 68°C a 4.0mm rainfall in the mountains in winter with a high angle of the mountains average of 8.9hours of sunlight per day inJanuary. The average rainfall in January is 4.3mm.',\n",
              " 'Average temperature in the mountains of the region of Februray is 22.8°C. Average of 9.8hours of sunlight per day on a foggy day. 7.0mm of rainfall falls on the rocky coast of the island. Average temperature at the beach is 29.6°C on a sunny day in the morning. The average temperature at night is 16.1°C and the average temperature on a rainy day is 14.7°C in the region. The island has a population of around 2,000 people.',\n",
              " 'Average temperature in the month of march is 25.4°C lowest temperature in a month is 18.6°C a smoky cloudy day with temperatures of 32.1°C in the morning on a sunny day in march. Average of 16.0mm of rainfall on the first day of march average of 10.4 hours of sunlight per day in March. The average temperature in March is 25°C and the lowest temperature is 18°C.',\n",
              " 'The average temperature in the city is 26.6°C on a sunny day in April lowest temperature in a month is 20.8°C in april the maximum temperature of the lake is 32.8 °C in April. A smoky cloudy day with a maximum of 45.0mm of rainfall on a spring day in the region average of 10.6hours per day in March and April. The average rainfall for the month of April is 45.3mm.',\n",
              " 'The average temperature in the summer is 25.5°C. lowest temperature in a month is 21.0°C in may. 9.5hours of sunlight per day on average in the month of may. a smoky lake with a maximum temperature of 31.2°C on average. a high rainfall of 131mm in may and a low rainfall of 13.5mm in May.',\n",
              " 'A smoky lake with a maximum temperature of 27.5°C in the summer. 126.0mm of rainfall on the coast in early summer average of 6.8hours per day in sunlight. a summers day in the mountains with temperatures of 23.2°C and a sunny day. The lowest temperature in summer is 20. 2°C. The average temperature on a summer day is 23.1°C on a clear day.',\n",
              " 'Average temperature in the summer is 22.4°C Lowest temperature in July was 19.8°C. 134mm of rainfall on the island of July. Average time of day with sunlight of 6.1 hours. A smoky lake with a maximum temperature of 26.4 °C in theSummer. A high of 134mm\\xa0of rainfall on a day with a high of 23°C in July.',\n",
              " 'Average temperature in the summer is 22.2°C Lowest temperature in August was 19.4°C a smoky summer day with a maximum temperature of 26.1°C with a high of 137mm of rainfall on the outskirts of the city on august. A maximum of 5.7 hours of sunlight per day in august  with a highest temperature of 25°C on a sunny day.',\n",
              " 'The average temperature in the month of September is 22.4°C. Lowest temperature in September was 19.0°C at the highest point. The average of 6.4 hours of sunlight per day on the island of September. A maximum of 125.0mm of rainfall has been recorded in September. The highest temperature is 26.7°C in the mountains of the island. The lowest temperature is 16.5°C when the sun is shining.',\n",
              " 'Average temperature in October was 18.4°C. Average of 7.2 hours of sunlight per day in the month of October. Highest temperature was 22.0°C on a sunny autumn day with blue sky and blue sky lowest temperature was 26.4 °C in the evening on saturday, october. Average rainfall was 147.0mm with a maximum of 147.1mm. Average temperature was 18°C with a high temperature of 22°C and a low temperature of 26.3 °C. Highest rainfall was 146.5mm with an average of 8.2mm per day.',\n",
              " 'The temperature in the mountains is expected to be as high as 25.7°C on saturday, november a smoky cloudy day with a total of 65.0mm of rainfall in the month of November. There is an average of 7.1 hours of sunlight per day in November. The average temperature in November is 20.9°C. The lowest temperature in a month of Nov is 16. 7°C and the highest temperature is 25.6°C, November has an average temperature of 20.8°C in the mountain areas.',\n",
              " 'Average temperature in the city on a sunny day in December with a high of 20.1°C lowest temperature in December is 15.1 °C. 7.5 hours of sunlight per day on average in the month of december. a smoky cloudy day with ahigh of 23.0mm of rainfall on the day of the first week of de December. a temperature of 25°C is the maximum for the month\\xa0of\\xa0december. A temperature of 20°C on a\\xa0sunny\\xa0day is the average temperature for December.']"
            ]
          },
          "metadata": {},
          "execution_count": 12
        }
      ]
    },
    {
      "cell_type": "markdown",
      "source": [
        "---\n",
        "\n",
        "\n",
        "\n",
        "---\n",
        "\n",
        "## b. Approch 2\n",
        "\n",
        "\n",
        "> Bag Of Words: Adding extra words to the original sentence before using the Text2Text model. This enhances the sentence and generates more meaningful variations.\n",
        "\n"
      ],
      "metadata": {
        "id": "19nijesemqFU"
      }
    },
    {
      "cell_type": "code",
      "source": [
        "def BoW(sentence):\n",
        "    words = sentence.split()\n",
        "\n",
        "    # Define the bag of words\n",
        "    bag_of_words = [\"is\", \"the\", \"a\"]\n",
        "\n",
        "    # Add bag of words to the words\n",
        "    bag_of_words_with_words = words[1:] + bag_of_words\n",
        "\n",
        "    import random\n",
        "    random.shuffle(bag_of_words_with_words)\n",
        "\n",
        "    # Convert the bag of words into a sentence or phrase\n",
        "    input_text = words[0] + \" \" + \" \".join(bag_of_words_with_words)\n",
        "\n",
        "    return input_text\n"
      ],
      "metadata": {
        "id": "yRfQgYfWk68J"
      },
      "execution_count": 13,
      "outputs": []
    },
    {
      "cell_type": "code",
      "source": [
        "to_summarize = []\n",
        "\n",
        "# Iterate over each sentences list\n",
        "for sentence_list in sentences:\n",
        "    tmp = ''\n",
        "    # Iterate over each sentence in the sentence_list\n",
        "    for sentence in sentence_list:\n",
        "\n",
        "        # Apply the BoW function to the sentence and text2text function\n",
        "        modified_sentence = gen_sentence(gen_sentence(BoW(sentence)))\n",
        "\n",
        "        # Append the modified sentence to the temporary string\n",
        "        tmp += modified_sentence + \" \"\n",
        "\n",
        "    # Append the temporary string to the to_summarize list\n",
        "    to_summarize.append(tmp)\n",
        "\n",
        "\n",
        "to_summarize"
      ],
      "metadata": {
        "id": "7Gv2fYTCQMrl",
        "colab": {
          "base_uri": "https://localhost:8080/"
        },
        "outputId": "d0fe8654-8ca3-473f-edba-84f13f4085dd"
      },
      "execution_count": 14,
      "outputs": [
        {
          "output_type": "execute_result",
          "data": {
            "text/plain": [
              "['the average temperature in the month of January is 20.7°C. the lowest temperature in the year is 14.6°C. the maximum temperature in January is 27.4°C. the a is 4.0mm and the rain is a bright blue sky the average time of day is 8.9 hours. ',\n",
              " 'the average temperature in the city of februray is 22.8°C. the lowest temperature in the world is 16.1°C. the sea is calmer than the sea at a temperature of 29.6°C. the outskirts of the town of Februray were hit by 7.0mm of rainfall. the average time of day is 9.8 hours. ',\n",
              " 'the average temperature in the month of march is 25.4°C. the lowest temperature in march was 18.6°C. the temperature is forecast to be the highest in years and will reach 32.1°C in march. the a is a sliver of rainfall of 16.0mm. the average time of day is 10.4hours. ',\n",
              " 'the average temperature in the spring is 26.6°C. the lowest temperature in a month is 20.8°C. the maximum temperature in the spring is 32.8°C. the rainfall is expected to be around 45.0mm in the month of April. a day with a maximum of 10.6hours per hour is the average for the month of april. ',\n",
              " 'the average temperature in a city is 25.5°C in may. the lowest temperature in the month of may is 21.0°C. the april is the highest month in the world and has the highest temperatures. the rainfall is expected to be around 131.0mm in the month of may. the average time of day is 9.5 hours. ',\n",
              " 'the average temperature in the summer is 23.2°C. the lowest temperature in a month is 20.2°C. the temperature is expected to be the highest in years. the a rainfall of 126.0mm is expected to be recorded in the summer. the average time of year is 6:08am on a sunny day with a high of 68 degrees ',\n",
              " 'the average temperature in the summer is 22.4°C. the lowest temperature is seen in July with a high of 19.8°C. the temperature in July is the maximum of 26.4°C. the average rainfall over the last month has been 134mm. the average time of day is 6.1 hours a day. ',\n",
              " 'the average temperature in a city is 22.2°C. the lowest temperature in august is 19.4°C. the temperature is the highest in the world at a time of year at 26.1°C. the a is a cloudy day with a high of 137mm. the average time of day is 5.7 hours. ',\n",
              " 'the average temperature in april is 22.4°C. the lowest temperature in months is 19.0°C. the maximum temperature in September is 26.7°C. the highest rainfall in the world was recorded in September at 125.0mm. the average time of day is 6.4 hours. ',\n",
              " 'the average temperature in the city is 22.0°C in October. the lowest temperature in years is 18.4°C. the temperature is at its highest point on a sunny day with a maximum of 26.4°C. the is a beautiful day with a beautiful sky and a total of 147.0mm of rainfall. the average time of year for a day of sunlight is 7.2 hours. ',\n",
              " 'the average temperature in the month of November is 20.9°C. the lowest temperature in the month of November is 16.7°C. a temperature of 25.7°C is recorded in the region on saturday morning. the a is a mountain range with a high rainfall of 65.0mm. the average time of day is 7.1 hours. ',\n",
              " 'the average temperature in the month of december is 20.1°C. the lowest temperature in years is 15.1°C. the average temperature in the month of December is 25.8°C. the average rainfall in the month of december is 23.0mm. the average time of year is 7.5 hours with the sun shining through the window. ']"
            ]
          },
          "metadata": {},
          "execution_count": 14
        }
      ]
    },
    {
      "cell_type": "code",
      "source": [
        "toSummarize = summarize(to_summarize, 1)"
      ],
      "metadata": {
        "id": "wG43l0Q-tbcp",
        "colab": {
          "base_uri": "https://localhost:8080/"
        },
        "outputId": "d7308ff5-0e04-4d46-f4f4-9307528f9c16"
      },
      "execution_count": 15,
      "outputs": [
        {
          "output_type": "stream",
          "name": "stderr",
          "text": [
            "Your max_length is set to 90, but your input_length is only 69. Since this is a summarization task, where outputs shorter than the input are typically wanted, you might consider decreasing max_length manually, e.g. summarizer('...', max_length=34)\n",
            "Your max_length is set to 102, but your input_length is only 83. Since this is a summarization task, where outputs shorter than the input are typically wanted, you might consider decreasing max_length manually, e.g. summarizer('...', max_length=41)\n",
            "Your max_length is set to 98, but your input_length is only 76. Since this is a summarization task, where outputs shorter than the input are typically wanted, you might consider decreasing max_length manually, e.g. summarizer('...', max_length=38)\n",
            "Your max_length is set to 108, but your input_length is only 81. Since this is a summarization task, where outputs shorter than the input are typically wanted, you might consider decreasing max_length manually, e.g. summarizer('...', max_length=40)\n",
            "Your max_length is set to 110, but your input_length is only 77. Since this is a summarization task, where outputs shorter than the input are typically wanted, you might consider decreasing max_length manually, e.g. summarizer('...', max_length=38)\n",
            "Your max_length is set to 112, but your input_length is only 77. Since this is a summarization task, where outputs shorter than the input are typically wanted, you might consider decreasing max_length manually, e.g. summarizer('...', max_length=38)\n",
            "Your max_length is set to 98, but your input_length is only 72. Since this is a summarization task, where outputs shorter than the input are typically wanted, you might consider decreasing max_length manually, e.g. summarizer('...', max_length=36)\n",
            "Your max_length is set to 98, but your input_length is only 73. Since this is a summarization task, where outputs shorter than the input are typically wanted, you might consider decreasing max_length manually, e.g. summarizer('...', max_length=36)\n",
            "Your max_length is set to 82, but your input_length is only 67. Since this is a summarization task, where outputs shorter than the input are typically wanted, you might consider decreasing max_length manually, e.g. summarizer('...', max_length=33)\n",
            "Your max_length is set to 124, but your input_length is only 87. Since this is a summarization task, where outputs shorter than the input are typically wanted, you might consider decreasing max_length manually, e.g. summarizer('...', max_length=43)\n",
            "Your max_length is set to 104, but your input_length is only 78. Since this is a summarization task, where outputs shorter than the input are typically wanted, you might consider decreasing max_length manually, e.g. summarizer('...', max_length=39)\n",
            "Your max_length is set to 104, but your input_length is only 79. Since this is a summarization task, where outputs shorter than the input are typically wanted, you might consider decreasing max_length manually, e.g. summarizer('...', max_length=39)\n"
          ]
        }
      ]
    },
    {
      "cell_type": "code",
      "source": [
        "toSummarize"
      ],
      "metadata": {
        "id": "H1vqJrEGtgAd",
        "colab": {
          "base_uri": "https://localhost:8080/"
        },
        "outputId": "9ac170b1-cb40-40a6-e386-3a60f35ef815"
      },
      "execution_count": 16,
      "outputs": [
        {
          "output_type": "execute_result",
          "data": {
            "text/plain": [
              "['The average temperature in January is 20.7°C. The lowest temperature in the year is 14.6°C and the maximum temperature is 27.4°C the a is 4.0mm and the rain is a bright blue sky. The average time of day is 8.9 hours and the average temperature is 20°C in January.',\n",
              " 'The lowest temperature in the world is 16.1°C. The average time of day is 9.8 hours in Februray. The sea is calmer than the sea at a temperature of 29.6°C and the outskirts of the town were hit by 7.0mm of rainfall. The city of Febrursuray has an average temperature of 22.8°C, and the lowest temperature of the world was 16.2°C in the same city.',\n",
              " 'The temperature is forecast to be the highest in years and will reach 32.1°C in march. The average temperature in the month of march is 25.4°C. The lowest temperature in march was 18.6°C and the average time of day is 10.4hours. The a is a sliver of rainfall of 16.0mm.',\n",
              " 'The average temperature in the spring is 26.6°C. the lowest temperature in a month is 20.8°C and the maximum temperature is 32.8 °C. rainfall is expected to be around 45.0mm in the month of April. a day with a maximum of 10.6hours per hour is the average for the month. of april. The average temperature for the whole of April is 22.7°C, and the average rainfall for the entire month is 45.3mm.',\n",
              " ' april is the highest month in the world and has the highest temperatures. the average temperature in a city is 25.5°C in may. the lowest temperature in the month of may is 21.0°C. the rainfall is expected to be around 131.0mm in themonth of may.  The average time of day is 9.5 hours and the average day length is 2.4 hours.',\n",
              " 'The average temperature in the summer is 23.2°C. the lowest temperature in a month is 20.2 °C. The a rainfall of 126.0mm is expected to be recorded in theSummer. The average time of year is 6:08am on a sunny day with a high of 68 degrees. the temperature is expected. to be the highest in years. the average time to be awake is 6.08am. on a bright day the average. time of day is 8.02am.',\n",
              " 'The average rainfall over the last month has been 134mm. The average time of day is 6.1 hours a day. The lowest temperature is seen in July with a high of 19.8°C. The temperature in July is the maximum of 26.4°C, the average temperature in the summer is 22.4 °C and the average rainfall is 22mm.',\n",
              " 'The temperature is the highest in the world at a time of year at 26.1°C. The average time of day is 5.7 hours. A cloudy day with a high of 137mm is called a cloudy day. The lowest temperature in august is 19.4°C and the average temperature in a city is 22.2 °C.',\n",
              " 'The highest rainfall in the world was recorded in September at 125.0mm. the average time of day is 6.4 hours. the lowest temperature in months is 19.0°C. The average temperature in april is 22.4°C and the maximum temperature in September is 26.7 °C.',\n",
              " 'The average temperature in the city is 22.0°C in October. the lowest temperature in years is 18.4°C. The temperature is at its highest point on a sunny day with a maximum of 26.4 °C. the average time of year for a day of sunlight is 7.2 hours. The city has received 147.0mm of rainfall in the last year. The average rainfall for the same period of time is 1.4mm.',\n",
              " 'The average temperature in the month of November is 20.9°C. The lowest temperature is 16.7°C in the region. A is a mountain range with a high rainfall of 65.0mm. The average time of day is 7.1 hours. A temperature of 25.7 °C is recorded on Saturday morning. The highest temperature is recorded at 26°C on Sunday morning.',\n",
              " 'The average time of year is 7.5 hours with the sun shining through the window. The lowest temperature in years is 15.1°C. The average rainfall in the month of december is 23.0mm. The highest temperature in December is 25.8°C, and the lowest is 14.7°C in the winter months. The hottest day of the year is on December 25, when the average temperature is 20.1 °C.']"
            ]
          },
          "metadata": {},
          "execution_count": 16
        }
      ]
    },
    {
      "cell_type": "markdown",
      "source": [
        "\n",
        "\n",
        "---\n",
        "\n",
        "\n",
        "\n",
        "---\n",
        "\n",
        "\n",
        "\n",
        "\n",
        "# c. Approch 3\n",
        "\n",
        "\n",
        ">  Masking: Employed Masking pipelines to introduce meaningful words into the original sentence\n"
      ],
      "metadata": {
        "id": "fS8uMQl9tkDw"
      }
    },
    {
      "cell_type": "code",
      "source": [
        "# creatng a list of all the words present in the dataset \n",
        "import numpy as np\n",
        "\n",
        "data_words = []\n",
        "\n",
        "# Iterate over each row in the data\n",
        "for row in data:\n",
        "    # Iterate over each item in the row\n",
        "    for item in row:\n",
        "\n",
        "        # if the item is a string\n",
        "        if isinstance(item, str):\n",
        "            # Convert the item to lowercase, split it into words and add them in data_words\n",
        "            data_words.extend((item.lower()).split())\n",
        "\n",
        "# Remove duplicate words\n",
        "data_words = np.unique(data_words)"
      ],
      "metadata": {
        "id": "ZEwykU16ttZM"
      },
      "execution_count": 17,
      "outputs": []
    },
    {
      "cell_type": "code",
      "source": [
        "# This function perform the masking operations\n",
        "\n",
        "def masked_sentence(Sentences):\n",
        "   \n",
        "    # Iterate over each sentences\n",
        "    for sentence in Sentences:\n",
        "        # Iterate over each sentence in the sentence_list\n",
        "        for idx, sent in enumerate(sentence):\n",
        "\n",
        "            # Get the length of the sentence\n",
        "            length = len(sent.split())\n",
        "\n",
        "            # Iterate over each position in the sentence\n",
        "            for i in range(length):\n",
        "\n",
        "                # Split the sentence into words\n",
        "                words = (sent.lower()).split(\" \")\n",
        "\n",
        "                # Insert a [MASK] token\n",
        "                words.insert(2*i, \"[MASK]\")\n",
        "                sent = ' '.join(words)\n",
        "\n",
        "                # Calling the mask function\n",
        "                options = unmasker(sent)\n",
        "\n",
        "                # Iterate over each option in options\n",
        "                for option in options:\n",
        "                    # Check if the option is alphabetic and not already present in the words or dataframe\n",
        "                    if option['token_str'].isalpha() and option['token_str'] not in words and option['token_str'] not in data_words:\n",
        "                        # Replace the [MASK] token with the selected option\n",
        "                        sent = sent.replace('[MASK]', option['token_str'])\n",
        "                        break\n",
        "                    else:\n",
        "                        # Remove the [MASK] token if no suitable option is found\n",
        "                        sent = sent.replace('[MASK]', '')\n",
        "                        sent = \" \".join(sent.split())\n",
        "\n",
        "            # Update the modified sentence in the sentence list\n",
        "            sentence[idx] = sent\n",
        "\n",
        "    # Return the modified Sentences list\n",
        "    return Sentences\n"
      ],
      "metadata": {
        "id": "SOQqm9D9tz0B"
      },
      "execution_count": 18,
      "outputs": []
    },
    {
      "cell_type": "code",
      "source": [
        "import copy\n",
        "\n",
        "# Create a copy of the 'sentences' list\n",
        "Sentences = copy.deepcopy(sentences)\n",
        "\n",
        "# Iterate twice to perform masking and replacement\n",
        "for i in range(2):\n",
        "    # Call the 'masked_sentence' function \n",
        "    Sentences = masked_sentence(Sentences)\n",
        "\n",
        "Sentences"
      ],
      "metadata": {
        "id": "LkR9K3YOvSn_",
        "colab": {
          "base_uri": "https://localhost:8080/"
        },
        "outputId": "5382f04c-67c0-4ec6-c24b-c082bc43979f"
      },
      "execution_count": 19,
      "outputs": [
        {
          "output_type": "execute_result",
          "data": {
            "text/plain": [
              "[['january 20.7°c annual average very high temperature',\n",
              "  'january 14.6°c lowest temperature',\n",
              "  'january 27.4°c maximum temperature',\n",
              "  'rain on january 4.0mm of rainfall',\n",
              "  'on january 8.9hour average sunlight per full day'],\n",
              " ['in februray 22.8°c average mean annual temperature',\n",
              "  'in februray 16.1°c lowest annual mean temperature',\n",
              "  'februray 29.6°c maximum temperature',\n",
              "  'in februray 7.0mm rainfall',\n",
              "  'in februray 9.8hour average number of direct sunlight hours per full day'],\n",
              " ['march 25.4°c average temperature',\n",
              "  'march 18.6°c lowest temperature',\n",
              "  'march 32.1°c maximum temperature',\n",
              "  'in march 16.0mm rainfall',\n",
              "  'recorded on march 10.4hour times average minimum sunlight hours per full day'],\n",
              " ['april 26.6°c average temperature',\n",
              "  'april 20.8°c lowest temperature',\n",
              "  'april 32.8°c maximum temperature',\n",
              "  'in april 45.0mm rainfall',\n",
              "  'april 10.6hour of average direct sunlight hours per full day'],\n",
              " ['may 25.5°c above average mean sea surface temperature',\n",
              "  'may 21.0°c lowest temperature',\n",
              "  'may 31.2°c maximum temperature',\n",
              "  'in may 131.0mm of annual rainfall',\n",
              "  'on may 9.5hour average sunlight per full day'],\n",
              " ['june 23.2°c above average annual temperature',\n",
              "  'june 20.2°c lowest temperature',\n",
              "  'june 27.5°c maximum temperature',\n",
              "  'in june 126.0mm of heavy rainfall',\n",
              "  'held on saturday june 6.8hour average sunlight per full day'],\n",
              " ['july 22.4°c average temperature',\n",
              "  'july 19.8°c lowest temperature',\n",
              "  'july 26.4°c maximum temperature',\n",
              "  'in july 134.0mm of annual rainfall',\n",
              "  'on july 6.1hour of the average direct sunlight hours per full day'],\n",
              " ['august 22.2°c above average annual temperature',\n",
              "  'august 19.4°c lowest temperature',\n",
              "  'august 26.1°c maximum temperature',\n",
              "  'in august 137.0mm of annual rainfall',\n",
              "  'held on saturday august 5.7hour average number of free sunlight hours per a full calendar day'],\n",
              " ['september 22.4°c average temperature',\n",
              "  'september 19.0°c lowest temperature',\n",
              "  'september 26.7°c maximum temperature',\n",
              "  'in september 125.0mm of annual rainfall',\n",
              "  'held on saturday september 6.4hour average number of free sunlight hours per a full calendar day'],\n",
              " ['october 22.0°c average temperature',\n",
              "  'october 18.4°c lowest temperature',\n",
              "  'october 26.4°c maximum temperature',\n",
              "  'in october 147.0mm of annual rainfall',\n",
              "  'on october 7.2hour of the average direct sunlight hours per full day'],\n",
              " ['november 20.9°c average temperature',\n",
              "  'november 16.7°c lowest temperature',\n",
              "  'november 25.7°c maximum temperature',\n",
              "  'in november 65.0mm of annual rainfall',\n",
              "  'held on saturday november 7.1hour average number of free sunlight hours per a full calendar day'],\n",
              " ['december 20.1°c annual average temperature',\n",
              "  'december 15.1°c lowest temperature',\n",
              "  'december 25.8°c maximum temperature',\n",
              "  'on december 23.0mm of heavy rainfall',\n",
              "  'on december 7.5hour average number of direct sunlight hours per full day']]"
            ]
          },
          "metadata": {},
          "execution_count": 19
        }
      ]
    },
    {
      "cell_type": "code",
      "source": [
        "to_summarize = combine_sentence(Sentences)\n",
        "to_summarize"
      ],
      "metadata": {
        "id": "cx808W-ZvaSz",
        "colab": {
          "base_uri": "https://localhost:8080/"
        },
        "outputId": "d0d96d86-0753-45ed-d449-51f7d7e942e0"
      },
      "execution_count": 20,
      "outputs": [
        {
          "output_type": "execute_result",
          "data": {
            "text/plain": [
              "['a january is an average year with temperatures of 20.7°c. january was the lowest temperature since records began at 14.6°c. january is the month when the temperature is 27.4°c at its maximum. a smoky 4.0mm of rain falls on january in the city. a full moon on january with an average of 8.9hours of sunlight per day ',\n",
              " 'the average temperature in februray is 22.8°c a year. the average temperature in februray is 16.1°c. the maximum temperature in februray is 29.6°c. a smoky saturday morning saw a hefty rainfall of 7.0mm in februray. the average number of hours of direct sunlight per day in februray is 9.8. ',\n",
              " 'the average temperature in march is 25.4°c. march is the lowest temperature since the first day of the year at 18.6°c. march is the highest temperature since records began at 32.1°c. a smoky march with 16.0mm of rainfall the average daily hours of sunlight recorded on march are 10.4 hours per hour. ',\n",
              " 'april is the month when the average temperature is 26.6°c. april is the month when the temperature is the lowest in years. april is the best time to visit the coast as temperatures reach a maximum of 32.8°c. rainfall in april was 45.0mm. april is a beautiful day with an average of 10.6 hours of direct sunlight per day. ',\n",
              " 'the average sea surface temperature is 25.5°c above the average. the lowest temperature in may was 21.0°c. the maximum temperature of the pond is 31.2°c on may a record 131.0mm of rainfall was recorded in may. the average amount of sunlight per day is 9.5 hours. ',\n",
              " 'june is the hottest month in the year with temperatures rising to 23.2°c above average. june is the month when the temperature is the lowest. june is the month when the temperature is at its highest point of 27.5°c. heavy rainfall in june with a total of 126.0mm of rainfall a full moon is seen through the windows of a building on saturday with an average of 6.8hours of sunlight per day. ',\n",
              " 'a july average of 22.4°c is expected to be the highest temperature a july day with temperatures of 19.8°c and the lowest being a sweltering july a july day with temperatures of 26.4°c and a maximum of 78°c a smoky july with a total of 134.0mm of rainfall and a smoky july with a smoky july with a smoky july with a smoky july with a smoky july with a smoky july with a smoky july with a smoky july with a s the average daily hours of direct sunlight is 6.1 hours per day on july. ',\n",
              " 'the average temperature in august is 22.2°c above the average annual the lowest temperature in august was 19.4°c. the temperature reached a maximum of 26.1°c in august. a record 137mm of rainfall was recorded in august. the average number of hours of free sunlight per day is 5.7. ',\n",
              " 'the average temperature in september was 22.4°c. the lowest temperature since september was 19.0°c. the temperature reached a maximum of 26.7°c on september. a year with a total of 125mm of rainfall in september. the average number of hours of free sunlight per day is 6.4. ',\n",
              " 'the average temperature in october was 22.0°c. october is the month when the temperature is the lowest on record. october is the month when temperatures reach their maximum of 26.4°c. a record 147mm of rainfall was recorded in october. the average daily hours of direct sunlight is 7.2 hours per day on october. ',\n",
              " 'a saturday morning in november saw temperatures of 20.9°c on average. a saturday morning saw temperatures drop to the lowest of 16.7°c on november a saturday morning temperatures of 25.7°c was the highest since november. a saturday morning saw a record 65.0mm of rainfall in november. a full calendar with an average of 7.1 hours of free sunlight per day. ',\n",
              " 'the average temperature in the year is 20.1°c on december. the lowest temperature since december was 15.1°c. the temperature at the peak of the festival was 25.8°c on december. heavy rainfall on december with a total of 23.0mm of rainfall the average number of hours of direct sunlight per day on december is 7.5. ']"
            ]
          },
          "metadata": {},
          "execution_count": 20
        }
      ]
    },
    {
      "cell_type": "code",
      "source": [
        "toSummarize = summarize(to_summarize, 1)"
      ],
      "metadata": {
        "id": "33eLlWXwv2Vc",
        "colab": {
          "base_uri": "https://localhost:8080/"
        },
        "outputId": "6b0b1844-bbcc-45ce-caa2-eae7874135c4"
      },
      "execution_count": 21,
      "outputs": [
        {
          "output_type": "stream",
          "name": "stderr",
          "text": [
            "Your max_length is set to 114, but your input_length is only 88. Since this is a summarization task, where outputs shorter than the input are typically wanted, you might consider decreasing max_length manually, e.g. summarizer('...', max_length=44)\n",
            "Your max_length is set to 98, but your input_length is only 91. Since this is a summarization task, where outputs shorter than the input are typically wanted, you might consider decreasing max_length manually, e.g. summarizer('...', max_length=45)\n",
            "Your max_length is set to 104, but your input_length is only 77. Since this is a summarization task, where outputs shorter than the input are typically wanted, you might consider decreasing max_length manually, e.g. summarizer('...', max_length=38)\n",
            "Your max_length is set to 118, but your input_length is only 85. Since this is a summarization task, where outputs shorter than the input are typically wanted, you might consider decreasing max_length manually, e.g. summarizer('...', max_length=42)\n",
            "Your max_length is set to 92, but your input_length is only 70. Since this is a summarization task, where outputs shorter than the input are typically wanted, you might consider decreasing max_length manually, e.g. summarizer('...', max_length=35)\n",
            "Your max_length is set to 144, but your input_length is only 98. Since this is a summarization task, where outputs shorter than the input are typically wanted, you might consider decreasing max_length manually, e.g. summarizer('...', max_length=49)\n",
            "Your max_length is set to 194, but your input_length is only 145. Since this is a summarization task, where outputs shorter than the input are typically wanted, you might consider decreasing max_length manually, e.g. summarizer('...', max_length=72)\n",
            "Your max_length is set to 96, but your input_length is only 74. Since this is a summarization task, where outputs shorter than the input are typically wanted, you might consider decreasing max_length manually, e.g. summarizer('...', max_length=37)\n",
            "Your max_length is set to 92, but your input_length is only 77. Since this is a summarization task, where outputs shorter than the input are typically wanted, you might consider decreasing max_length manually, e.g. summarizer('...', max_length=38)\n",
            "Your max_length is set to 106, but your input_length is only 77. Since this is a summarization task, where outputs shorter than the input are typically wanted, you might consider decreasing max_length manually, e.g. summarizer('...', max_length=38)\n",
            "Your max_length is set to 120, but your input_length is only 96. Since this is a summarization task, where outputs shorter than the input are typically wanted, you might consider decreasing max_length manually, e.g. summarizer('...', max_length=48)\n",
            "Your max_length is set to 108, but your input_length is only 83. Since this is a summarization task, where outputs shorter than the input are typically wanted, you might consider decreasing max_length manually, e.g. summarizer('...', max_length=41)\n"
          ]
        }
      ]
    },
    {
      "cell_type": "code",
      "source": [
        "toSummarize"
      ],
      "metadata": {
        "id": "LN0Rr9Fiv3Ex",
        "colab": {
          "base_uri": "https://localhost:8080/"
        },
        "outputId": "5d4b8f14-d90e-40a2-eed9-4388336b1d2a"
      },
      "execution_count": 22,
      "outputs": [
        {
          "output_type": "execute_result",
          "data": {
            "text/plain": [
              "[' january is the month when the temperature is 27.4°c at its maximum. january was the lowest temperature since records began at 14.6°c. a smoky 4.0mm of rain falls on january in the city. a full moon on January with an average of 8.9hours of sunlight per day. a January is an average year with temperatures of 20.7°C.',\n",
              " \"The average temperature in februray is 22.8°c a year. The maximum temperature is 29.6°c. The average number of hours of direct sunlight per day is 9.8. A smoky saturday morning saw a hefty rainfall of 7.0mm in the city. The city's average temperature is 16.1°C.\",\n",
              " 'The average temperature in march is 25.4°c. march is the lowest temperature since the first day of the year at 18.6°C. The average daily hours of sunlight recorded on march are 10.4 hours per hour. a smoky march with 16.0mm of rainfall is the highest temperature since records began at 32.1°c and the lowest since the beginning of 2013.',\n",
              " ' april is the best time to visit the coast as temperatures reach a maximum of 32.8°c. rainfall in april was 45.0mm. april has an average of 10.6 hours of direct sunlight per day. The average temperature in April is 26.6°c, which is the lowest for the month in over a decade. It is also the warmest month of the year, with an average temperature of 26.4°c in April.',\n",
              " 'The average sea surface temperature is 25.5°c above the average. The lowest temperature in may was 21.0°c. A record 131.0mm of rainfall was recorded in may. The average amount of sunlight per day is 9.5 hours. The maximum temperature of the pond is 31.2°c on may.',\n",
              " ' june is the hottest month in the year with temperatures rising to 23.2°c above average. June is the month when the temperature is at its highest point of 27.5°c. heavy rainfall in june with a total of 126.0mm of rainfall. a full moon is seen through the windows of a building on saturday with an average of 6.8hours of sunlight per day.  June has the highest temperature of the year at 27.4°c and the lowest temperature at 13.7°C.',\n",
              " 'A july average of 22.4°c is expected to be the highest temperature a july day with temperatures of 19.8°c. The average daily hours of direct sunlight is 6.1 hours per day on july. A smoky july with a total of 134.0mm of rainfall is expected with a maximum of 78°c a smoky July. The highest temperature is predicted to be 26.4 °C and the lowest is a sweltering 20°C a smoky July day. A july Average of 22°C is the average temperature for the month of July, with a July average of 19°C and a July maximum of 26°C. A July Average of 20.2°C means the July average is the highest temperatures for that month.',\n",
              " 'The average temperature in august is 22.2°c above the average annual. A record 137mm of rainfall was recorded in August. The average number of hours of free sunlight per day is 5.7. The temperature reached a maximum of 26.1°c in augUST. The lowest temperature in August was 19.4°c.',\n",
              " 'The temperature reached a maximum of 26.7°c on september. The average number of hours of free sunlight per day is 6.4. a year with a total of 125mm of rainfall in septEMBER. the lowest temperature since September was 19.0°c. the average temperature in September was 22.4°C.',\n",
              " ' october is the month when temperatures reach their maximum of 26.4°c. a record 147mm of rainfall was recorded in october. the average daily hours of direct sunlight is 7.2 hours per day onoctober. The average temperature in October was 22.0°c, the lowest on record. The record for the month was 23.8°C, which was set back in 1961.',\n",
              " 'A record 65.0mm of rainfall was recorded in november. A full calendar with an average of 7.1 hours of free sunlight per day. A saturday morning saw temperatures drop to the lowest of 16.7°c on noveember. a s Saturday morning saw a record of 20.9°C on average. A record of 25.7 °C was the highest since novemer. a full calendar had a average of seven.1 Hours of Free sunlight per Day. A  s Saturday night saw temperatures fall to a record-breaking 16.',\n",
              " 'The temperature at the peak of the festival was 25.8°c on december. The average temperature in the year is 20.1°c. heavy rainfall on de December with a total of 23.0mm of rainfall.  The average number of hours of direct sunlight per day on deDecember is 7.5. The lowest temperature since december was 15.1 °C.']"
            ]
          },
          "metadata": {},
          "execution_count": 22
        }
      ]
    },
    {
      "cell_type": "code",
      "source": [],
      "metadata": {
        "id": "GwxrMl2gwq7n"
      },
      "execution_count": 22,
      "outputs": []
    }
  ]
}